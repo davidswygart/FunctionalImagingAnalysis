{
 "cells": [
  {
   "cell_type": "code",
   "execution_count": 18,
   "metadata": {},
   "outputs": [],
   "source": [
    "import matplotlib.pyplot as plt\n",
    "from matplotlib.colors import LinearSegmentedColormap\n",
    "import matplotlib.animation as animation\n",
    "\n",
    "import numpy as np\n",
    "from scipy.signal import find_peaks, butter, filtfilt\n",
    "from scipy.ndimage import percentile_filter\n",
    "import scipy.fftpack\n",
    "\n",
    "import h5py\n",
    "import re\n",
    "import datetime\n",
    "\n",
    "from sklearn.cluster import KMeans\n"
   ]
  },
  {
   "cell_type": "code",
   "execution_count": 2,
   "metadata": {},
   "outputs": [],
   "source": [
    "symphony_file = h5py.File(\"C:\\\\Users\\\\zfj\\\\data\\\\frame_tracker_testing_new_splitter.h5\",\"r\")\n",
    "# symphony_file = h5py.File(\"C:\\\\Users\\\\zfj\\\\data\\\\frame_tracker_testing - Copy.h5\",\"r\")\n",
    "epoch_groups = []\n",
    "\n",
    "dotNetOffset = 1e6*60*60 #ticks per hour\n",
    "def append_epochs(name, g):\n",
    "    if 'protocolID' in g.attrs and g.attrs['protocolID'] == b'sa_labs.protocols.stage.SpotGridAndChirp': \n",
    "        # print({k:v for k,v in g['protocolParameters'].attrs.items()})\n",
    "        epochs = {\n",
    "            'start_times':[],\n",
    "            'frame_timing':[],\n",
    "            'trial_type':[],\n",
    "            'cx':[],\n",
    "            'cy':[],\n",
    "            'amp1':[],\n",
    "        }   \n",
    "        for epoch in g['epochs']:\n",
    "            resps = g['epochs'][epoch]['responses']\n",
    "            for resp in resps:\n",
    "                if 'Frame timing' in resp:\n",
    "                    epochs['frame_timing'].append(resps[resp]['data']['quantity'])\n",
    "                if 'Amp1' in resp:\n",
    "                    epochs['amp1'].append(resps[resp]['data']['quantity'])\n",
    "            epochs['start_times'].append(g['epochs'][epoch].attrs['startTimeDotNetDateTimeOffsetTicks'])\n",
    "            epochs['trial_type'].append(g['epochs'][epoch]['protocolParameters'].attrs['trialType'])\n",
    "            if epochs['trial_type'][-1] == b'grid':\n",
    "                epochs['cx'].append(g['epochs'][epoch]['protocolParameters'].attrs['cx'])\n",
    "                epochs['cy'].append(g['epochs'][epoch]['protocolParameters'].attrs['cy'])\n",
    "            else:\n",
    "                epochs['cx'].append(np.array([]))\n",
    "                epochs['cy'].append(np.array([]))\n",
    "            \n",
    "        epoch_groups.append({**g['protocolParameters'].attrs, 'epochs':epochs})\n",
    "symphony_file.visititems(append_epochs)\n",
    "\n",
    "# plt.scatter(epochs['cx'],epochs['cy'])\n"
   ]
  },
  {
   "cell_type": "code",
   "execution_count": 24,
   "metadata": {},
   "outputs": [
    {
     "name": "stdout",
     "output_type": "stream",
     "text": [
      "[28, 28]\n"
     ]
    }
   ],
   "source": [
    "# print(epoch_groups[0]['epochs'])\n",
    "\n",
    "print([len(e['epochs']['start_times']) for e in epoch_groups])\n",
    "# print(epoch_groups[1]['epochs'])\n",
    "# epochs = epoch_groups[1]['epochs']\n",
    "# params = {k:v for k,v in epoch_groups[1].items() if k != 'epochs'}\n",
    "# epochs['trial_type']\n",
    "# print(epochs['cx'])\n",
    "\n",
    "epochs = {\n",
    "    'start_times': [x for eg in epoch_groups for x in eg['epochs']['start_times']],\n",
    "    'trial_type': [x for eg in epoch_groups for x in eg['epochs']['trial_type']],\n",
    "    'frame_timing': [x for eg in epoch_groups for x in eg['epochs']['frame_timing']],\n",
    "    'amp1': [x for eg in epoch_groups for x in eg['epochs']['amp1']],\n",
    "    \n",
    "    'cx': [x for eg in epoch_groups for x in eg['epochs']['cx']],\n",
    "    'cy': [x for eg in epoch_groups for x in eg['epochs']['cy']],\n",
    "}\n",
    "#should filter / iterate on matching epoch blocks ....\n",
    "\n",
    "sf = 10000"
   ]
  },
  {
   "cell_type": "code",
   "execution_count": 25,
   "metadata": {},
   "outputs": [
    {
     "name": "stdout",
     "output_type": "stream",
     "text": [
      "[[6.20619024]\n",
      " [0.91569662]\n",
      " [4.2101358 ]\n",
      " [2.59048515]\n",
      " [0.06854144]]\n"
     ]
    }
   ],
   "source": [
    "## Learn the trigger levels and noise using k-means clustering on the trigger channel\n",
    "\n",
    "trig = np.asarray(epochs['frame_timing']).reshape(-1,1)\n",
    "\n",
    "# trig[:,1::2,:] = np.flip(trig[:,1::2,:], axis=2) #bidi scanning\n",
    "# trig = trig.reshape(-1,1)\n",
    "\n",
    "# If we don't include the start trigger, we will probably not learn it.\n",
    "# Find the top 25 spikes in the trigger channel. These are likely start triggers\n",
    "trig_candidates = np.argpartition(trig[2:] - trig[:-2],-25, axis=0)[-25:].flatten()\n",
    "\n",
    "# Train the classifier using windows around the putative start triggers\n",
    "km = KMeans(n_clusters=5, algorithm='elkan').fit(trig[trig_candidates[:,None] + np.arange(0,50000)].reshape(-1,1)) #~7s\n",
    "fl = km.predict(trig)\n",
    "\n",
    "# Reorder the predictions in ascending voltage order\n",
    "idx = np.argsort(km.cluster_centers_.flatten())\n",
    "lut = np.zeros_like(idx)\n",
    "lut[idx] = np.arange(len(idx))\n",
    "fl = lut[fl]\n",
    "\n",
    "print(km.cluster_centers_)\n"
   ]
  },
  {
   "cell_type": "code",
   "execution_count": 29,
   "metadata": {},
   "outputs": [
    {
     "name": "stdout",
     "output_type": "stream",
     "text": [
      "117349 55.88047619047619\n"
     ]
    }
   ],
   "source": [
    "## Calculate the frame number from the trigger labels\n",
    "\n",
    "flips = np.where(np.diff(fl))[0]\n",
    "flips = np.insert(flips,(0,-1),(0,len(fl)-1))\n",
    "\n",
    "\n",
    "fi = np.empty_like(fl, dtype=float)\n",
    "fi[:flips[1]] = np.nan\n",
    "\n",
    "rm = []\n",
    "last_flip = 0\n",
    "for i in range(1,len(flips)):\n",
    "    if (flips[i] - flips[i-1] < sf/140):\n",
    "        rm.append(i)\n",
    "        continue\n",
    "    elif fl[flips[i]] == 4:\n",
    "        fi[last_flip:flips[i]] = 3 # the first 4 frames have an identical signature, should be preTime\n",
    "    elif fl[flips[i]] == 0:\n",
    "        fi[last_flip:flips[i]] = ((fi[last_flip-1] + 4)//4)*4\n",
    "    elif fl[flips[i]] == 3:\n",
    "        fi[last_flip:flips[i]] = ((fi[last_flip-1] + 3)//4)*4 + 1\n",
    "    elif fl[flips[i]] == 1:\n",
    "        fi[last_flip:flips[i]] = ((fi[last_flip-1] + 2)//4)*4 + 2\n",
    "    elif fl[flips[i]] == 2:\n",
    "        fi[last_flip:flips[i]] = ((fi[last_flip-1] + 1)//4)*4 + 3\n",
    "    \n",
    "    last_flip = flips[i]\n",
    "fi[-1] = fi[-2]\n",
    "flips = np.delete(flips, rm)\n",
    "\n",
    "print(len(flips), len(flips)/60/35)"
   ]
  },
  {
   "cell_type": "code",
   "execution_count": 36,
   "metadata": {},
   "outputs": [
    {
     "data": {
      "text/plain": [
       "(-1.0, 25.0)"
      ]
     },
     "execution_count": 36,
     "metadata": {},
     "output_type": "execute_result"
    },
    {
     "data": {
      "image/png": "[encoded data removed]",
      "text/plain": [
       "<Figure size 432x288 with 1 Axes>"
      ]
     },
     "metadata": {
      "needs_background": "light"
     },
     "output_type": "display_data"
    }
   ],
   "source": [
    "plt.plot(trig[trig_candidates[1,None] + np.arange(0,15000)] / trig.max() * (km.n_clusters-1))\n",
    "plt.plot(fl[trig_candidates[1,None] + np.arange(0,15000)])\n",
    "plt.plot(fi[trig_candidates[1,None] + np.arange(0,15000)])\n",
    "plt.ylim(-1, 25)"
   ]
  },
  {
   "cell_type": "code",
   "execution_count": 46,
   "metadata": {},
   "outputs": [
    {
     "name": "stdout",
     "output_type": "stream",
     "text": [
      "Dropped 28 frames in 54 trials (0.024%)\n"
     ]
    },
    {
     "data": {
      "image/png": "[encoded data removed]",
      "text/plain": [
       "<Figure size 432x288 with 1 Axes>"
      ]
     },
     "metadata": {
      "needs_background": "light"
     },
     "output_type": "display_data"
    },
    {
     "data": {
      "image/png": "[encoded data removed]",
      "text/plain": [
       "<Figure size 432x288 with 1 Axes>"
      ]
     },
     "metadata": {
      "needs_background": "light"
     },
     "output_type": "display_data"
    }
   ],
   "source": [
    "## Find dropped frames and trial start times\n",
    "\n",
    "dropped = np.where(np.diff(fi)>1)[0]\n",
    "trial = np.where(np.diff(fi)<0)[0]\n",
    "print(f'Dropped {len(dropped)} frames in {len(trial)} trials ({len(dropped)/len(flips) * 100:.03f}%)')\n",
    "\n",
    "plt.plot(fi[trial[:,None] + np.arange(0,5000)].squeeze().T)\n",
    "plt.ylim(0,25)\n",
    "\n",
    "plt.figure()\n",
    "plt.plot((fi[dropped[:,None] + np.arange(-300,300)] - fi[dropped[:,None]]).squeeze().T)\n",
    "plt.ylim(-9,9)\n",
    "plt.show()\n"
   ]
  }
 ],
 "metadata": {
  "kernelspec": {
   "display_name": "Python 3.8.13 ('suite2p')",
   "language": "python",
   "name": "python3"
  },
  "language_info": {
   "codemirror_mode": {
    "name": "ipython",
    "version": 3
   },
   "file_extension": ".py",
   "mimetype": "text/x-python",
   "name": "python",
   "nbconvert_exporter": "python",
   "pygments_lexer": "ipython3",
   "version": "3.8.13 (default, Mar 28 2022, 06:59:08) [MSC v.1916 64 bit (AMD64)]"
  },
  "orig_nbformat": 4,
  "vscode": {
   "interpreter": {
    "hash": "549e27e5738a75b56c6f3bddb38ab05120dd5572e6f39f219b227b4e2f87fa08"
   }
  }
 },
 "nbformat": 4,
 "nbformat_minor": 2
}

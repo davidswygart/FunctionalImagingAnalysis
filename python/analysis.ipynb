{
 "cells": [
  {
   "cell_type": "code",
   "execution_count": 1,
   "metadata": {},
   "outputs": [],
   "source": [
    "# import suite2p\n",
    "import matplotlib.pyplot as plt\n",
    "import h5py\n",
    "import suite2p\n",
    "import re\n",
    "import datetime\n",
    "import numpy as np\n",
    "from skimage.transform import resize\n",
    "from skimage import draw\n",
    "from skimage.segmentation import find_boundaries\n",
    "from skimage.filters import gaussian as gaussfilt\n",
    "\n",
    "from matplotlib.colors import LinearSegmentedColormap\n",
    "from sklearn.decomposition import FastICA\n",
    "\n",
    "import matplotlib.animation as animation\n",
    "from scipy.spatial.distance import squareform"
   ]
  },
  {
   "cell_type": "code",
   "execution_count": 2,
   "metadata": {},
   "outputs": [],
   "source": [
    "raw = \"C:\\\\Users\\\\zfj\\\\data\\\\081122B\\\\func\\\\region4_00001.tif\"\n",
    "reg = \"C:\\\\Users\\\\zfj\\\\data\\\\081122B\\\\func\\\\suite2p\\\\plane0\\\\reg_tif_chan2\\\\file{:03d}_chan1.tif\"\n",
    "bing = \"C:\\\\Users\\\\zfj\\\\data\\\\081122B\\\\func\\\\suite2p\\\\plane0\\\\data.bin\"\n",
    "binr = \"C:\\\\Users\\\\zfj\\\\data\\\\081122B\\\\func\\\\suite2p\\\\plane0\\\\data_chan2.bin\"\n",
    "timing = \"C:\\\\Users\\\\zfj\\\\data\\\\081122B\\\\081122B.h5\"\n",
    "mask = \"C:\\\\Users\\\\zfj\\\\data\\\\training\\\\081122B_region4_67_masks.tif\""
   ]
  },
  {
   "cell_type": "code",
   "execution_count": 3,
   "metadata": {},
   "outputs": [],
   "source": [
    "tif = suite2p.io.tiff.ScanImageTiffReader(raw)"
   ]
  },
  {
   "cell_type": "code",
   "execution_count": 4,
   "metadata": {},
   "outputs": [],
   "source": [
    "dotnet_epoch = datetime.datetime(1, 1, 1)\n",
    "us = datetime.timedelta(microseconds = 1)\n",
    "\n",
    "a = re.search(\"epoch = \\[((?:\\d+.?\\d+,?)+)\\]\", tif.description(0))\n",
    "t = [float(x) for x in a.groups()[0].split(',')]\n",
    "t.append(t[-1] % 1 * 1e6)\n",
    "t = [int(ti) for ti in t]\n",
    "offset = 10 * (datetime.datetime(*t) - dotnet_epoch) // us \n",
    "\n",
    "ts = np.empty((len(tif)//4), dtype=np.int64)\n",
    "\n",
    "for i in np.arange(0, len(tif), 4):\n",
    "    a = re.search(\"frameTimestamps_sec = (\\d+.?\\d+)\", tif.description(i))\n",
    "    ts[i//4] = float(a.groups()[0]) * 1e7 + offset\n",
    "\n",
    "# .NET to datetime: datetime.datetime(1, 1, 1) + datetime.timedelta(microseconds = ticks//10)\n"
   ]
  },
  {
   "cell_type": "code",
   "execution_count": 5,
   "metadata": {},
   "outputs": [],
   "source": [
    "stim_file = h5py.File(timing,\"r\")\n",
    "epochs = {\n",
    "    'start_times':[],\n",
    "    'cx': [],\n",
    "    'cy': [],\n",
    "}\n",
    "# epoch_blocks.append({**g['protocolParameters'].attrs, 'epochs':epochs})\n",
    "dotNetOffset = 1e6*60*60 #ticks per hour\n",
    "def append_epochs(name, g):\n",
    "    if 'protocolID' in g.attrs and g.attrs['protocolID'] == b'sa_labs.protocols.stage.multiSMS.HexSMS':   \n",
    "        # print({**g['protocolParameters'].attrs})\n",
    "        for epoch in g['epochs']:\n",
    "            # print((g['epochs'][epoch].attrs['startTimeDotNetDateTimeOffsetOffsetHours'],g['epochs'][epoch].attrs['startTimeDotNetDateTimeOffsetTicks']))\n",
    "            # return\n",
    "            epochs['start_times'].append(g['epochs'][epoch].attrs['startTimeDotNetDateTimeOffsetTicks'])# - (g['epochs'][epoch].attrs['startTimeDotNetDateTimeOffsetOffsetHours']*dotNetOffset))\n",
    "            # epochs['start_times'].append(g['epochs'][epoch].attrs['startTimeDotNetDateTimeOffsetTicks'])\n",
    "            epochs['cx'].append(g['epochs'][epoch]['protocolParameters'].attrs['cx'])\n",
    "            epochs['cy'].append(g['epochs'][epoch]['protocolParameters'].attrs['cy'])\n",
    "stim_file.visititems(append_epochs)\n",
    "\n",
    "# plt.scatter(epochs['cx'],epochs['cy'])\n"
   ]
  },
  {
   "cell_type": "code",
   "execution_count": 6,
   "metadata": {},
   "outputs": [
    {
     "name": "stdout",
     "output_type": "stream",
     "text": [
      "(3548, 1)\n"
     ]
    }
   ],
   "source": [
    "trigger = tif.data().reshape(-1,4,32,128)[:,3,:,:]\n",
    "trigger[:,1::,:] = np.flip(trigger[:,1::,:], axis=2)\n",
    "trigger = trigger.flatten()\n",
    "td =  trigger[2:] - trigger[:-2]\n",
    "trigs = np.argwhere(td > 15000)\n",
    "\n",
    "ntrigs = np.argwhere(td < -15000)\n",
    "print(trigs.shape)"
   ]
  },
  {
   "cell_type": "code",
   "execution_count": 7,
   "metadata": {},
   "outputs": [
    {
     "name": "stdout",
     "output_type": "stream",
     "text": [
      "(1778,)\n",
      "(1268,)\n",
      "6645886 6957025\n"
     ]
    },
    {
     "data": {
      "image/png": "[encoded data removed]",
      "text/plain": [
       "<Figure size 432x288 with 1 Axes>"
      ]
     },
     "metadata": {
      "needs_background": "light"
     },
     "output_type": "display_data"
    }
   ],
   "source": [
    "# trigger[trigs[0]-1000]\n",
    "trigs = np.delete(trigs, np.argwhere(trigs[1:] - trigs[:-1] < 200)+1)\n",
    "print(trigs.shape)\n",
    "T= trigs[:,None] - ntrigs[:,None].T\n",
    "\n",
    "trigs = np.delete(trigs, np.argwhere(np.logical_and(T < 200, T >= 0).squeeze())[:,0])\n",
    "print(trigs.shape)\n",
    "\n",
    "print(trigs[0],trigs[1])\n",
    "plt.hist(trigs,1000)\n",
    "plt.xlim(0,1e7)\n",
    "plt.show()\n"
   ]
  },
  {
   "cell_type": "code",
   "execution_count": 185,
   "metadata": {},
   "outputs": [
    {
     "data": {
      "text/plain": [
       "[<matplotlib.lines.Line2D at 0x28072fa52b0>]"
      ]
     },
     "execution_count": 185,
     "metadata": {},
     "output_type": "execute_result"
    },
    {
     "data": {
      "image/png": "[encoded data removed]",
      "text/plain": [
       "<Figure size 432x288 with 1 Axes>"
      ]
     },
     "metadata": {
      "needs_background": "light"
     },
     "output_type": "display_data"
    }
   ],
   "source": [
    "\n",
    "plt.plot(trigger[trigs[0]-10 : trigs[0]+32*128*33])"
   ]
  },
  {
   "cell_type": "code",
   "execution_count": 8,
   "metadata": {},
   "outputs": [
    {
     "name": "stdout",
     "output_type": "stream",
     "text": [
      "(1756,)\n",
      "(1268,)\n",
      "6713086 7024126\n"
     ]
    },
    {
     "data": {
      "image/png": "[encoded data removed]",
      "text/plain": [
       "<Figure size 432x288 with 1 Axes>"
      ]
     },
     "metadata": {
      "needs_background": "light"
     },
     "output_type": "display_data"
    },
    {
     "data": {
      "text/plain": [
       "[<matplotlib.lines.Line2D at 0x2024499b8b0>]"
      ]
     },
     "execution_count": 8,
     "metadata": {},
     "output_type": "execute_result"
    },
    {
     "data": {
      "image/png": "[encoded data removed]",
      "text/plain": [
       "<Figure size 432x288 with 1 Axes>"
      ]
     },
     "metadata": {
      "needs_background": "light"
     },
     "output_type": "display_data"
    }
   ],
   "source": [
    "# trigger[trigs[0]-1000]\n",
    "ntrigs = np.delete(ntrigs, np.argwhere(ntrigs[1:] - ntrigs[:-1] < 200)+1)\n",
    "print(ntrigs.shape)\n",
    "T= ntrigs[:,None] - trigs[:,None].T\n",
    "\n",
    "ntrigs = np.delete(ntrigs, np.argwhere(np.logical_and(T < 200, T >= 0).squeeze())[:,0])\n",
    "print(ntrigs.shape)\n",
    "\n",
    "print(ntrigs[0],ntrigs[1])\n",
    "plt.hist(ntrigs,1000)\n",
    "plt.xlim(0,1e7)\n",
    "plt.show()\n",
    "\n",
    "plt.plot(trigger[ntrigs[0]-10 : ntrigs[0]+10])"
   ]
  },
  {
   "cell_type": "code",
   "execution_count": 187,
   "metadata": {},
   "outputs": [
    {
     "data": {
      "text/plain": [
       "array([637958402887125120, 637958402910302080, 637958402931649280, ...,\n",
       "       637958449187677184, 637958449559423360, 637958449932694400],\n",
       "      dtype=int64)"
      ]
     },
     "execution_count": 187,
     "metadata": {},
     "output_type": "execute_result"
    }
   ],
   "source": [
    "ts[trigs // (32*128)]"
   ]
  },
  {
   "cell_type": "code",
   "execution_count": 9,
   "metadata": {},
   "outputs": [],
   "source": [
    "# idx = np.abs(np.expand_dims(epochs['start_times'],axis=0) - np.expand_dims(ts[trigs // (32*128)],axis=1)).argmin(axis=0)\n",
    "# # idx_missing = np.union1d(np.where(idx==len(ts)-1), np.where(idx==0))\n",
    "# # epochs['start_times'] = np.delete(epochs['start_times'], idx_missing)\n",
    "# # epochs['cx'] = np.delete(epochs['cx'], idx_missing)\n",
    "# # epochs['cy'] = np.delete(epochs['cy'], idx_missing)\n",
    "# # idx = np.delete(idx, idx_missing)\n",
    "time_delta = np.abs(np.expand_dims(epochs['start_times'],axis=0) - np.expand_dims(ts[trigs // (32*128)],axis=1))\n",
    "idx_e = time_delta.argmin(axis=0)\n",
    "idx_i = time_delta.argmin(axis=1)\n",
    "\n",
    "idx_i_missing = np.array(np.nonzero(np.take_along_axis(time_delta, np.expand_dims(idx_i, axis=1), axis=1) > 1e7))[0]\n",
    "idx_i = np.delete(idx_i, idx_i_missing)\n",
    "\n",
    "idx_e_missing = np.array(np.nonzero(np.take_along_axis(time_delta, np.expand_dims(idx_e, axis=0), axis=0) > 1e7))[1]\n",
    "idx_e = np.delete(idx_e, idx_e_missing)\n",
    "idx_e_idx = idx_e.argsort()\n",
    "\n",
    "for k in epochs:\n",
    "    epochs[k] = np.delete(epochs[k], idx_e_missing)\n",
    "    epochs[k] = epochs[k][idx_e_idx] #sort the trials by start time\n",
    "\n",
    "trigs= np.delete(trigs, idx_i_missing)\n",
    "\n",
    "\n",
    "\n",
    "# idx = np.abs(np.expand_dims(epochs['start_times'],axis=0) - np.expand_dims(ts,axis=1)).argmin(axis=0)\n",
    "# idx_missing = np.union1d(np.where(idx==len(ts)-1), np.where(idx==0))\n",
    "# epochs['start_times'] = np.delete(epochs['start_times'], idx_missing)\n",
    "# epochs['cx'] = np.delete(epochs['cx'], idx_missing)\n",
    "# epochs['cy'] = np.delete(epochs['cy'], idx_missing)\n",
    "# idx = np.delete(idx, idx_missing)\n"
   ]
  },
  {
   "cell_type": "code",
   "execution_count": 189,
   "metadata": {},
   "outputs": [
    {
     "name": "stdout",
     "output_type": "stream",
     "text": [
      "1222 1222\n"
     ]
    }
   ],
   "source": [
    "print(len(trigs), len(epochs['start_times']))"
   ]
  },
  {
   "cell_type": "code",
   "execution_count": 136,
   "metadata": {},
   "outputs": [
    {
     "name": "stdout",
     "output_type": "stream",
     "text": [
      "SI.LINE_FORMAT_VERSION = 1\n",
      "SI.TIFF_FORMAT_VERSION = 4\n",
      "SI.VERSION_COMMIT = '306db24f7aaaf13afde17cbc3522447082dff778'\n",
      "SI.VERSION_MAJOR = '5.7'\n",
      "SI.VERSION_MINOR = '1'\n",
      "SI.acqState = 'grab'\n",
      "SI.acqsPerLoop = 1\n",
      "SI.extTrigEnable = false\n",
      "SI.hBeams.beamCalibratedStatus = [true false]\n",
      "SI.hBeams.directMode = [false false]\n",
      "SI.hBeams.enablePowerBox = false\n",
      "SI.hBeams.extPowerScaleFnc = []\n",
      "SI.hBeams.flybackBlanking = true\n",
      "SI.hBeams.interlaceDecimation = [1 1]\n",
      "SI.hBeams.interlaceOffset = [0 0]\n",
      "SI.hBeams.lengthConstants = [Inf Inf]\n",
      "SI.hBeams.powerBoxEndFrame = Inf\n",
      "SI.hBeams.powerBoxStartFrame = 1\n",
      "SI.hBeams.powerBoxes.rect = [0.25 0.25 0.5 0.5]\n",
      "SI.hBeams.powerBoxes.powers = [NaN NaN]\n",
      "SI.hBeams.powerBoxes.name = ''\n",
      "SI.hBeams.powerBoxes.oddLines = true\n",
      "SI.hBeams.powerBoxes.evenLines = true\n",
      "SI.hBeams.powerLimits = [100 100]\n",
      "SI.hBeams.powers = [5 100]\n",
      "SI.hBeams.pzAdjust = [false false]\n",
      "SI.hBeams.pzCustom = {[] []}\n",
      "SI.hBeams.tfExtForceStreaming = 0\n",
      "SI.hChannels.channelAdcResolution = {16 16 16 16}\n",
      "SI.hChannels.channelDisplay = [1;2;3;4]\n",
      "SI.hChannels.channelInputRange = {[-10 10] [-10 10] [-10 10] [-10 10]}\n",
      "SI.hChannels.channelLUT = {[-8 6172] [-16 796] [4495 10340] [-1 1]}\n",
      "SI.hChannels.channelMergeColor = {'red';'green';'blue';'none'}\n",
      "SI.hChannels.channelName = {'Channel 1' 'Channel 2' 'Channel 3' 'Channel 4'}\n",
      "SI.hChannels.channelOffset = [-8 20 34 3]\n",
      "SI.hChannels.channelSave = [1;2;3;4]\n",
      "SI.hChannels.channelSubtractOffset = [false false false false]\n",
      "SI.hChannels.channelType = {'stripe' 'stripe' 'stripe' 'stripe'}\n",
      "SI.hChannels.channelsActive = [1;2;3;4]\n",
      "SI.hChannels.channelsAvailable = 4\n",
      "SI.hChannels.loggingEnable = 1\n",
      "SI.hConfigurationSaver.cfgFilename = 'C:\\Users\\SchwartzLab\\Documents\\ScanImage_2020_settings\\MachineData_020921\\Zach.cfg'\n",
      "SI.hConfigurationSaver.usrFilename = 'C:\\Users\\SchwartzLab\\Documents\\ScanImage_2020_settings\\MachineData_020921\\Zach.usr'\n",
      "SI.hCycleManager.cycleIterIdxTotal = 0\n",
      "SI.hCycleManager.cyclesCompleted = 0\n",
      "SI.hCycleManager.enabled = false\n",
      "SI.hCycleManager.itersCompleted = 0\n",
      "SI.hCycleManager.totalCycles = 1\n",
      "SI.hDisplay.autoScaleSaturationFraction = [0.1 0.01]\n",
      "SI.hDisplay.channelsMergeEnable = 1\n",
      "SI.hDisplay.channelsMergeFocusOnly = false\n",
      "SI.hDisplay.displayRollingAverageFactor = 1\n",
      "SI.hDisplay.displayRollingAverageFactorLock = 1\n",
      "SI.hDisplay.enableScanfieldDisplays = false\n",
      "SI.hDisplay.lineScanHistoryLength = 1000\n",
      "SI.hDisplay.renderer = 'auto'\n",
      "SI.hDisplay.scanfieldDisplayColumns = 5\n",
      "SI.hDisplay.scanfieldDisplayRows = 5\n",
      "SI.hDisplay.scanfieldDisplayTilingMode = 'Auto'\n",
      "SI.hDisplay.scanfieldDisplays.enable = false\n",
      "SI.hDisplay.scanfieldDisplays.name = 'Display 1'\n",
      "SI.hDisplay.scanfieldDisplays.channel = 1\n",
      "SI.hDisplay.scanfieldDisplays.roi = 1\n",
      "SI.hDisplay.scanfieldDisplays.z = 0\n",
      "SI.hDisplay.selectedZs = []\n",
      "SI.hDisplay.showScanfieldDisplayNames = true\n",
      "SI.hDisplay.volumeDisplayStyle = 'Current'\n",
      "SI.hFastZ.actuatorLag = 0\n",
      "SI.hFastZ.discardFlybackFrames = false\n",
      "SI.hFastZ.enable = false\n",
      "SI.hFastZ.enableFieldCurveCorr = false\n",
      "SI.hFastZ.flybackTime = 0\n",
      "SI.hFastZ.hasFastZ = true\n",
      "SI.hFastZ.nonblockingMoveInProgress = false\n",
      "SI.hFastZ.numDiscardFlybackFrames = 0\n",
      "SI.hFastZ.positionAbsoluteRaw = -0.0596015\n",
      "SI.hFastZ.positionTarget = 0\n",
      "SI.hFastZ.positionTargetRaw = 0\n",
      "SI.hFastZ.volumePeriodAdjustment = -0.0006\n",
      "SI.hFastZ.waveformType = 'sawtooth'\n",
      "SI.hMotionManager.correctionBoundsXY = [-5 5]\n",
      "SI.hMotionManager.correctionBoundsZ = [-2 2]\n",
      "SI.hMotionManager.correctionDeviceXY = 'motor'\n",
      "SI.hMotionManager.correctionDeviceZ = 'motor'\n",
      "SI.hMotionManager.correctionEnableXY = false\n",
      "SI.hMotionManager.correctionEnableZ = true\n",
      "SI.hMotionManager.correctorClassName = 'scanimage.components.motionCorrectors.SimpleMotionCorrector'\n",
      "SI.hMotionManager.enable = true\n",
      "SI.hMotionManager.estimatorClassName = 'scanimage.components.motionEstimators.GpuMotionEstimator'\n",
      "SI.hMotionManager.motionHistoryLength = 100\n",
      "SI.hMotionManager.motionMarkersXY = zeros(0,2)\n",
      "SI.hMotionManager.resetCorrectionAfterAcq = true\n",
      "SI.hMotionManager.zStackAlignmentFcn = @scanimage.components.motionEstimators.util.alignZRoiData\n",
      "SI.hMotors.axesPosition = [1072 -693.2 -78.7]\n",
      "SI.hMotors.azimuth = 0\n",
      "SI.hMotors.backlashCompensation = [0 0 0]\n",
      "SI.hMotors.elevation = 0\n",
      "SI.hMotors.errorMsg = {''}\n",
      "SI.hMotors.errorTf = false\n",
      "SI.hMotors.isAligned = false\n",
      "SI.hMotors.isRelativeZeroSet = true\n",
      "SI.hMotors.minPositionQueryInterval_s = 0.001\n",
      "SI.hMotors.motorPosition = [-1134.1 -789.4 -28.8]\n",
      "SI.hMotors.moveInProgress = false\n",
      "SI.hMotors.moveTimeout_s = 10\n",
      "SI.hMotors.samplePosition = [1134.1 789.4 -28.8]\n",
      "SI.hMotors.simulatedAxes = [false false false]\n",
      "SI.hMotors.userDefinedPositions = []\n",
      "SI.hPmts.autoPower = []\n",
      "SI.hPmts.bandwidths = []\n",
      "SI.hPmts.gains = []\n",
      "SI.hPmts.names = []\n",
      "SI.hPmts.offsets = []\n",
      "SI.hPmts.powersOn = []\n",
      "SI.hPmts.tripped = []\n",
      "SI.hRoiManager.forceSquarePixelation = 0\n",
      "SI.hRoiManager.forceSquarePixels = 0\n",
      "SI.hRoiManager.imagingFovDeg = [-6.75 -6.75;6.75 -6.75;6.75 6.75;-6.75 6.75]\n",
      "SI.hRoiManager.imagingFovUm = [-105.3 -105.3;105.3 -105.3;105.3 105.3;-105.3 105.3]\n",
      "SI.hRoiManager.linePeriod = 0.0009216\n",
      "SI.hRoiManager.linesPerFrame = 32\n",
      "SI.hRoiManager.pixelsPerLine = 128\n",
      "SI.hRoiManager.scanAngleMultiplierFast = 1\n",
      "SI.hRoiManager.scanAngleMultiplierSlow = 1\n",
      "SI.hRoiManager.scanAngleShiftFast = 0\n",
      "SI.hRoiManager.scanAngleShiftSlow = 0\n",
      "SI.hRoiManager.scanFramePeriod = 0.030496\n",
      "SI.hRoiManager.scanFrameRate = 32.7912\n",
      "SI.hRoiManager.scanRotation = 0\n",
      "SI.hRoiManager.scanVolumeRate = 32.7912\n",
      "SI.hRoiManager.scanZoomFactor = 1\n",
      "SI.hScan2D.beamClockDelay = 1.5e-06\n",
      "SI.hScan2D.beamClockExtend = 0\n",
      "SI.hScan2D.bidirectional = true\n",
      "SI.hScan2D.channelOffsets = [-8 20 34 3]\n",
      "SI.hScan2D.channels = {}\n",
      "SI.hScan2D.channelsAdcResolution = 16\n",
      "SI.hScan2D.channelsAutoReadOffsets = true\n",
      "SI.hScan2D.channelsAvailable = 4\n",
      "SI.hScan2D.channelsDataType = 'int16'\n",
      "SI.hScan2D.channelsFilter = 'None'\n",
      "SI.hScan2D.channelsInputRanges = {[-10 10] [-10 10] [-10 10] [-10 10]}\n",
      "SI.hScan2D.channelsSubtractOffsets = [false false false false]\n",
      "SI.hScan2D.fillFractionSpatial = 0.9\n",
      "SI.hScan2D.fillFractionTemporal = 0.9\n",
      "SI.hScan2D.flybackTimePerFrame = 0.001\n",
      "SI.hScan2D.flytoTimePerScanfield = 0.001\n",
      "SI.hScan2D.fovCornerPoints = [-7.5 -7.5;7.5 -7.5;7.5 7.5;-7.5 7.5]\n",
      "SI.hScan2D.hasResonantMirror = false\n",
      "SI.hScan2D.hasXGalvo = true\n",
      "SI.hScan2D.linePhase = 8.96e-05\n",
      "SI.hScan2D.lineScanFdbkSamplesPerFrame = []\n",
      "SI.hScan2D.lineScanNumFdbkChannels = []\n",
      "SI.hScan2D.lineScanSamplesPerFrame = []\n",
      "SI.hScan2D.logAverageFactor = 1\n",
      "SI.hScan2D.logFileCounter = 1\n",
      "SI.hScan2D.logFilePath = 'D:\\Images\\081122B'\n",
      "SI.hScan2D.logFileStem = 'region4'\n",
      "SI.hScan2D.logFramesPerFile = Inf\n",
      "SI.hScan2D.logFramesPerFileLock = false\n",
      "SI.hScan2D.logOverwriteWarn = false\n",
      "SI.hScan2D.maskDisableAveraging = false\n",
      "SI.hScan2D.maxSampleRate = 3.57143e+06\n",
      "SI.hScan2D.name = 'ImagingScanner'\n",
      "SI.hScan2D.nominalFovCornerPoints = [-7.5 -7.5;7.5 -7.5;7.5 7.5;-7.5 7.5]\n",
      "SI.hScan2D.pixelBinFactor = 8\n",
      "SI.hScan2D.recordScannerFeedback = false\n",
      "SI.hScan2D.sampleRate = 1.25e+06\n",
      "SI.hScan2D.sampleRateCtl = 312500\n",
      "SI.hScan2D.sampleRateFdbk = 125000\n",
      "SI.hScan2D.scanMode = 'linear'\n",
      "SI.hScan2D.scanPixelTimeMaxMinRatio = 1\n",
      "SI.hScan2D.scanPixelTimeMean = 6.4e-06\n",
      "SI.hScan2D.scannerFrequency = NaN\n",
      "SI.hScan2D.scannerToRefTransform = [1 0 0;0 1 0;0 0 1]\n",
      "SI.hScan2D.scannerType = 'GG'\n",
      "SI.hScan2D.settleTimeFraction = 0\n",
      "SI.hScan2D.simulated = false\n",
      "SI.hScan2D.stripingEnable = false\n",
      "SI.hScan2D.trigAcqEdge = 'rising'\n",
      "SI.hScan2D.trigAcqInTerm = ''\n",
      "SI.hScan2D.trigNextEdge = 'rising'\n",
      "SI.hScan2D.trigNextInTerm = ''\n",
      "SI.hScan2D.trigNextStopEnable = false\n",
      "SI.hScan2D.trigStopEdge = 'rising'\n",
      "SI.hScan2D.trigStopInTerm = ''\n",
      "SI.hStackManager.actualNumSlices = 1\n",
      "SI.hStackManager.actualNumVolumes = 1\n",
      "SI.hStackManager.actualStackZStepSize = []\n",
      "SI.hStackManager.arbitraryZs = [0 1]\n",
      "SI.hStackManager.centeredStack = false\n",
      "SI.hStackManager.closeShutterBetweenSlices = false\n",
      "SI.hStackManager.enable = false\n",
      "SI.hStackManager.framesPerSlice = Inf\n",
      "SI.hStackManager.numFramesPerVolume = 1\n",
      "SI.hStackManager.numFramesPerVolumeWithFlyback = 1\n",
      "SI.hStackManager.numSlices = 1\n",
      "SI.hStackManager.numVolumes = 1\n",
      "SI.hStackManager.stackActuator = 'motor'\n",
      "SI.hStackManager.stackDefinition = 'uniform'\n",
      "SI.hStackManager.stackEndPower = []\n",
      "SI.hStackManager.stackFastWaveformType = 'sawtooth'\n",
      "SI.hStackManager.stackMode = 'slow'\n",
      "SI.hStackManager.stackReturnHome = true\n",
      "SI.hStackManager.stackStartPower = []\n",
      "SI.hStackManager.stackZEndPos = []\n",
      "SI.hStackManager.stackZStartPos = []\n",
      "SI.hStackManager.stackZStepSize = 1\n",
      "SI.hStackManager.useStartEndPowers = true\n",
      "SI.hStackManager.zPowerReference = -28.8\n",
      "SI.hStackManager.zs = -28.8\n",
      "SI.hStackManager.zsRelative = 0\n",
      "SI.hUserFunctions.userFunctionsCfg = []\n",
      "SI.hUserFunctions.userFunctionsUsr.EventName = 'acqStart'\n",
      "SI.hUserFunctions.userFunctionsUsr.UserFcnName = 'scanimage_savelasercalib'\n",
      "SI.hUserFunctions.userFunctionsUsr.Arguments = {}\n",
      "SI.hUserFunctions.userFunctionsUsr.Enable = true\n",
      "SI.hWSConnector.communicationTimeout = 5\n",
      "SI.hWSConnector.enable = false\n",
      "SI.hWaveformManager.optimizedScanners = {}\n",
      "SI.imagingSystem = 'ImagingScanner'\n",
      "SI.loopAcqInterval = 10\n",
      "SI.objectiveResolution = 15.6\n",
      "SI.hBeams.calibrationMaxCalVoltage = 2.8883           5\n",
      "\n",
      "{\n",
      "  \"RoiGroups\": {\n",
      "    \"imagingRoiGroup\": {\n",
      "      \"ver\": 1,\n",
      "      \"classname\": \"scanimage.mroi.RoiGroup\",\n",
      "      \"name\": \"Default Imaging ROI Group\",\n",
      "      \"UserData\": null,\n",
      "      \"roiUuid\": \"2452A9C1CCDF2E49\",\n",
      "      \"roiUuiduint64\": 2.617340983e+18,\n",
      "      \"rois\": {\n",
      "        \"ver\": 1,\n",
      "        \"classname\": \"scanimage.mroi.Roi\",\n",
      "        \"name\": \"Default Imaging Roi\",\n",
      "        \"UserData\": {\n",
      "          \"imagingSystem\": \"ImagingScanner\",\n",
      "          \"fillFractionSpatial\": 0.9,\n",
      "          \"forceSquarePixelation\": 0,\n",
      "          \"forceSquarePixels\": 0,\n",
      "          \"scanZoomFactor\": 1,\n",
      "          \"scanAngleShiftFast\": 0,\n",
      "          \"scanAngleMultiplierSlow\": 1,\n",
      "          \"scanAngleShiftSlow\": 0,\n",
      "          \"scanRotation\": 0,\n",
      "          \"pixelsPerLine\": 128,\n",
      "          \"linesPerFrame\": 32\n",
      "        },\n",
      "        \"roiUuid\": \"EF1A2E75D96089C6\",\n",
      "        \"roiUuiduint64\": 1.722913441e+19,\n",
      "        \"zs\": 0,\n",
      "        \"scanfields\": {\n",
      "          \"ver\": 1,\n",
      "          \"classname\": \"scanimage.mroi.scanfield.fields.RotatedRectangle\",\n",
      "          \"name\": \"Default Imaging Scanfield\",\n",
      "          \"UserData\": null,\n",
      "          \"roiUuid\": \"CACE197CEA6DA4B4\",\n",
      "          \"roiUuiduint64\": 1.461364587e+19,\n",
      "          \"centerXY\": [-1.776356839e-16,-1.776356839e-16],\n",
      "          \"sizeXY\": [13.5,13.5],\n",
      "          \"rotationDegrees\": 0,\n",
      "          \"enable\": 1,\n",
      "          \"pixelResolutionXY\": [128,32],\n",
      "          \"pixelToRefTransform\": [\n",
      "            [0.10546875,0,-6.802734375],\n",
      "            [0,0.421875,-6.9609375],\n",
      "            [0,0,1]\n",
      "          ],\n",
      "          \"affine\": [\n",
      "            [13.5,0,-6.75],\n",
      "            [0,13.5,-6.75],\n",
      "            [0,0,1]\n",
      "          ]\n",
      "        },\n",
      "        \"discretePlaneMode\": 0,\n",
      "        \"powers\": null,\n",
      "        \"pzAdjust\": null,\n",
      "        \"Lzs\": null,\n",
      "        \"interlaceDecimation\": null,\n",
      "        \"interlaceOffset\": null,\n",
      "        \"enable\": 1\n",
      "      }\n",
      "    }\n",
      "  }\n",
      "}\n",
      "\n"
     ]
    }
   ],
   "source": [
    "print(tif.metadata())"
   ]
  },
  {
   "cell_type": "code",
   "execution_count": 10,
   "metadata": {},
   "outputs": [],
   "source": [
    "ue, e_i, e_c = np.unique(np.stack((epochs['cx'],epochs['cy'])),axis=1, return_inverse=True, return_counts=True)\n"
   ]
  },
  {
   "cell_type": "code",
   "execution_count": 12,
   "metadata": {},
   "outputs": [
    {
     "name": "stdout",
     "output_type": "stream",
     "text": [
      "[[-24.74181249 -24.74181249 -16.49454166 -16.49454166 -16.49454166\n",
      "   -8.24727083  -8.24727083   0.           0.           0.\n",
      "    8.24727083   8.24727083  16.49454166  16.49454166  16.49454166\n",
      "   24.74181249  24.74181249]\n",
      " [-14.2846921   14.2846921  -28.56938421   0.          28.56938421\n",
      "  -14.2846921   14.2846921  -28.56938421   0.          28.56938421\n",
      "  -14.2846921   14.2846921  -28.56938421   0.          28.56938421\n",
      "  -14.2846921   14.2846921 ]]\n",
      "[72 72 72 72 72 72 72 71 72 72 72 72 72 72 72 72 71]\n"
     ]
    }
   ],
   "source": [
    "print(ue)\n",
    "print(e_c)"
   ]
  },
  {
   "cell_type": "code",
   "execution_count": null,
   "metadata": {},
   "outputs": [],
   "source": [
    "import util.preprocess\n",
    "\n",
    "rois = util.preprocess.segment(\n",
    "    r\"C:\\Users\\zfj\\data\\081122B\\func\",\n",
    "    {\n",
    "        'frame_shape':(32,128),\n",
    "        'n_channels':4,\n",
    "        'pixel_rate':1 / 6.4e-06,\n",
    "        'line_rate': 1 / 0.0009216,\n",
    "        'frame_rate': 32.7912,\n",
    "    },\n",
    "    np.stack((trigs-33505,trigs,trigs+134018)), \n",
    "    e_i,\n",
    "    r\"C:\\Users\\zfj\\data\\training\\081122B_region4_67_masks.tif\", \n",
    "    r\"C:\\Users\\zfj\\data\\101222B\\dark_level_4.4p_00001.tif\"\n",
    ")\n"
   ]
  },
  {
   "cell_type": "code",
   "execution_count": 193,
   "metadata": {},
   "outputs": [
    {
     "name": "stdout",
     "output_type": "stream",
     "text": [
      "16\n"
     ]
    }
   ],
   "source": [
    "ue, e_i, e_c = np.unique(np.stack((epochs['cx'],epochs['cy'])),axis=1, return_inverse=True, return_counts=True)\n",
    "\n",
    "print(e_i.max())"
   ]
  },
  {
   "cell_type": "code",
   "execution_count": 194,
   "metadata": {},
   "outputs": [],
   "source": [
    "rois[0].roi\n",
    "np.save(os.path.join(r\"C:\\Users\\zfj\\data\\081122B\\func\", 'spots.npy'), np.asarray(rois, dtype=object))"
   ]
  },
  {
   "cell_type": "code",
   "execution_count": 196,
   "metadata": {},
   "outputs": [
    {
     "name": "stdout",
     "output_type": "stream",
     "text": [
      "1,2,3,5,6,7,8,9,10,11,12,13,14,15,16,17,18,19,20,21,22,23,24,25,26,27,28,29,30,31,32,33,34,35,36,37,38,39,40,41,42,43,44,45,46,47,48,49,50,51,52,53,54,55,56,57,58,59,60,61,62,63,64,65,66,67,68,69,70,71,72,73,74,75,76,77,78,79,80,81,82,83,84,85,86,87,88,89,90,91,92,93,94,95,96,97,98,99,100,101,102,103,104,105,106,107,108,109,110,111,112,113,114,115,116,117,118,119,120,121,122,123,124,125,126,127,128,129,130,131,132,133,134,135,136,137,138,139,140,141,142,143,144,145,146,147,148,149,150,151,152,153,154,155,156,157,158,159,160,161,162,163,164,165,166,167,168,169,170,171\n"
     ]
    }
   ],
   "source": [
    "print(\",\".join([f\"{int(r.roi)}\" for r in rois]))"
   ]
  },
  {
   "cell_type": "code",
   "execution_count": 195,
   "metadata": {},
   "outputs": [],
   "source": [
    "np.save(os.path.join(r\"C:\\Users\\zfj\\data\\081122B\\func\",'spots_labels.npy'), e_i)\n"
   ]
  },
  {
   "cell_type": "code",
   "execution_count": 160,
   "metadata": {},
   "outputs": [
    {
     "data": {
      "text/plain": [
       "<matplotlib.collections.PathCollection at 0x27fc93f40a0>"
      ]
     },
     "execution_count": 160,
     "metadata": {},
     "output_type": "execute_result"
    },
    {
     "data": {
      "image/png": "[encoded data removed]",
      "text/plain": [
       "<Figure size 432x288 with 1 Axes>"
      ]
     },
     "metadata": {
      "needs_background": "light"
     },
     "output_type": "display_data"
    }
   ],
   "source": [
    "ri = 5\n",
    "plt.scatter(rois[ri]['trial_t'], rois[ri]['dFoF'], alpha=.1)"
   ]
  },
  {
   "cell_type": "code",
   "execution_count": 7,
   "metadata": {},
   "outputs": [
    {
     "name": "stdout",
     "output_type": "stream",
     "text": [
      "(1222,) (44, 1222)\n",
      "(1222,) (2, 17)\n"
     ]
    }
   ],
   "source": [
    "frame_i = np.expand_dims(idx,axis=0) + np.expand_dims(np.arange(0,44),axis=1)\n",
    "print(idx.shape, frame_i.shape)\n",
    "\n",
    "# np.stack((epochs['cx'],epochs['cy'])).shape\n",
    "ue, e_i, e_c = np.unique(np.stack((epochs['cx'],epochs['cy'])),axis=1, return_inverse=True, return_counts=True)\n",
    "print(e_i.shape, ue.shape)"
   ]
  },
  {
   "cell_type": "code",
   "execution_count": null,
   "metadata": {},
   "outputs": [],
   "source": []
  },
  {
   "cell_type": "code",
   "execution_count": null,
   "metadata": {},
   "outputs": [],
   "source": [
    "m = suite2p.io.tiff.open_tiff(mask, True)[0].pages[0].asarray()\n",
    "\n",
    "def segment_ds(path):\n",
    "    data = suite2p.io.BinaryRWFile(32, 128, path).data[frame_i.flatten()]\n",
    "    act = np.empty((len(data),int(m.max())))\n",
    "    # m_ds = resize(m, (32,128)).reshape((1,32,128)).repeat(len(data), 0)\n",
    "    for i in range(int(m.max())):\n",
    "        m_i = resize((m==i+1).astype(np.float64), (32,128), anti_aliasing=True)\n",
    "        m_i /= m_i.sum()\n",
    "        m_i = m_i.reshape((1,32,128)).repeat(len(data), 0)\n",
    "\n",
    "        act[:,i] = (m_i * data).mean(axis=(1,2))\n",
    "    \n",
    "    return act.reshape((*frame_i.shape, -1))\n",
    "\n",
    "g = segment_ds(bing)\n",
    "gr = g / segment_ds(binr)\n",
    "\n",
    "# plt.imshow(resize((m==1).astype(np.float64), (32,128), anti_aliasing=True))\n",
    "\n",
    "# [resize(x, (32,128), anti_aliasing=True) for x in suite2p.io.BinaryRWFile(32, 128, bing).data[frame_i]]\n",
    "\n",
    "# r = suite2p.io.BinaryRWFile(32, 128, bing)[frame_i] #should be registered?\n",
    "\n",
    "# e = np.ma.masked_where(m[0].pages[0].asarray() == 1, g.data[frame_i])\n",
    "# e = (e - e[:10].mean(axis=0)) / e[:10].mean(axis=0)"
   ]
  },
  {
   "cell_type": "code",
   "execution_count": null,
   "metadata": {},
   "outputs": [],
   "source": [
    "# plt.imshow(g[:,:,147], aspect=40)\n",
    "# plt.plot(suite2p.io.BinaryRWFile(32, 128, bing).data[:,15,92])\n",
    "# plt.vlines(idx,0, 5000, color='k')\n",
    "\n",
    "print(gr.shape)\n",
    "fig,ax = plt.subplots(1,2, figsize=(10,5))\n",
    "ax[0].plot(((g-g[:10].mean(axis=0))/g[:10].mean(axis=0)).mean(axis=1))\n",
    "ax[1].plot(gr.mean(axis=1))\n",
    "ax[1].set_ylim(0,.2)\n",
    "\n",
    "# plt.imshow(((g-g[:10].mean(axis=0))/g[:10].mean(axis=0))[:,:,95].T, aspect=1/40)\n",
    "# plt.imshow(g[:,:,95].T, aspect=1/40)\n",
    "# plt.imshow(gr[:,:,95].T, aspect=1/40)\n",
    "\n",
    "# plt.colorbar()\n",
    "# plt.plot(gr.mean(axis=1))\n",
    "# plt.ylim((0,.1))\n",
    "\n",
    "plt.show()"
   ]
  },
  {
   "cell_type": "code",
   "execution_count": null,
   "metadata": {},
   "outputs": [],
   "source": [
    "epochs['dFoF_mean']=np.empty((g.shape[2], ue.shape[1], 44))\n",
    "epochs['gr_mean']=np.empty((g.shape[2], ue.shape[1], 44))\n",
    "epochs['dFoF_std']=np.empty((g.shape[2], ue.shape[1], 44))\n",
    "epochs['gr_std']=np.empty((g.shape[2], ue.shape[1], 44))\n",
    "\n",
    "dFoF = (g - g[:10,:,:].mean(axis=0)) / g[:10,:,:].mean(axis=0)\n",
    "for j in range(ue.shape[1]):\n",
    "    epochs['dFoF_mean'][:,j,:] = dFoF[:, e_i==j, :].mean(axis=1).T\n",
    "    epochs['gr_mean'][:,j,:] = gr[:, e_i==j, :].mean(axis=1).T\n",
    "    epochs['dFoF_std'][:,j,:] = dFoF[:, e_i==j, :].std(axis=1).T\n",
    "    epochs['gr_std'][:,j,:] = gr[:, e_i==j, :].std(axis=1).T"
   ]
  },
  {
   "cell_type": "code",
   "execution_count": null,
   "metadata": {},
   "outputs": [],
   "source": [
    "#plots the energy of each curve relative to baseline\n",
    "nrg = np.square(epochs['dFoF_mean'])[:,:,10:].mean(axis=2) - np.square(epochs['dFoF_mean'])[:,:,:10].mean(axis=2)\n",
    "plt.imshow(nrg, aspect=1/8,interpolation='nearest')\n",
    "plt.colorbar()\n",
    "plt.clim(0,.1)"
   ]
  },
  {
   "cell_type": "code",
   "execution_count": null,
   "metadata": {},
   "outputs": [],
   "source": [
    "print(epochs['dFoF_mean'].shape)\n",
    "for j in range(len(epochs['dFoF_mean'])):\n",
    "    for i in range(ue.shape[1]):\n",
    "    #     plt.fill_between(np.arange(-9,35,1), epochs['dFoF_mean'][95,i,:].T+epochs['dFoF_std'][95,i,:].T, epochs['dFoF_mean'][95,i,:].T-epochs['dFoF_std'][95,i,:].T, alpha=.1)\n",
    "        # plt.errorbar(np.arange(-9, 35, 1), epochs['dFoF_mean'][j,i,:].T, yerr=epochs['dFoF_std'][j,i,:].T / np.sqrt(e_c[i]), alpha=.3)\n",
    "        plt.errorbar(np.arange(-9, 35, 1), epochs['gr_mean'][j,i,:].T, yerr=epochs['gr_std'][j,i,:].T / np.sqrt(e_c[i]), alpha=.3)\n",
    "    plt.savefig(f'gr\\{j:03d}.png')\n",
    "    plt.clf()\n"
   ]
  },
  {
   "cell_type": "code",
   "execution_count": null,
   "metadata": {},
   "outputs": [],
   "source": [
    "ax = plt.axes(aspect=1)\n",
    "for j in range(len(nrg)):\n",
    "    plt.cla()\n",
    "    rj = nrg[j] - nrg[j].min()\n",
    "    rj /= rj.max()\n",
    "    for (x,y),r in zip(ue.T, rj):\n",
    "        ax.add_patch(plt.Circle((-x,-y), radius= 15, color=(.5,0,.7), alpha=r*.5))\n",
    "\n",
    "    plt.imshow(m==j+1, extent=105.3*np.array([-1,1,-1,1]),cmap=LinearSegmentedColormap.from_list(\"Green\", [(0,0,0), (0,1,0)], N=2))\n",
    "    ax.set_xlim((-105.3,105.3))\n",
    "    ax.set_ylim((-105.3,105.3))\n",
    "    plt.savefig(f'dFoF_rf\\{j:03d}.png')\n"
   ]
  },
  {
   "cell_type": "code",
   "execution_count": null,
   "metadata": {},
   "outputs": [],
   "source": [
    "nbins = 12\n",
    "Py = np.empty((dFoF.shape[2], dFoF.shape[0],nbins))\n",
    "BEy = np.empty((dFoF.shape[2], dFoF.shape[0],nbins+1))\n",
    "for c in range(dFoF.shape[2]):\n",
    "    for t in range(dFoF.shape[0]):\n",
    "        Py[c,t,:], BEy[c,t,:] = np.histogram(dFoF[t,:,c], bins=nbins)\n",
    "Py /= np.expand_dims(Py.sum(axis=(2,)),axis=(2,))\n",
    "\n",
    "Pyx = np.array([[np.histogram2d(dFoF[t,:,c], e_i, bins=(BEy[c,t,:], np.arange(-.5,len(e_c)+.5,1)))[0] for t in range(dFoF.shape[0])] for c in range(dFoF.shape[2])]).astype(np.float64)\n",
    "Pyx /= np.expand_dims(Pyx.sum(axis=(2,3)),axis=(2,3))\n"
   ]
  },
  {
   "cell_type": "code",
   "execution_count": null,
   "metadata": {},
   "outputs": [],
   "source": [
    "I = np.array([Pyx[:,:,:,j] * np.log2(Pyx[:,:,:,j] / (Py * e_c[j]/len(e_i))) for j in range(len(e_c))])\n",
    "I[np.isnan(I)] = 0\n",
    "I = I.sum(axis=(0,3))\n",
    "\n",
    "plt.plot(np.linspace(-.25,1,44),I.T)\n",
    "plt.hlines(np.log2(17), xmin=-.25, xmax=1, colors='k')\n",
    "plt.ylim((0,1))\n",
    "plt.xlabel('Time (s)')\n",
    "plt.ylabel('Information (bits)')\n",
    "plt.show()\n"
   ]
  },
  {
   "cell_type": "code",
   "execution_count": null,
   "metadata": {},
   "outputs": [],
   "source": [
    "# SMGM \n",
    "\n",
    "# [oc,~,bin] = histcounts(X,linspace(x_min,x_max,n_bin+1));\n",
    "# lambdai = sum((bin==1:n_bin).*Y)./oc*Fs;% Rate/intensity map\n",
    "# oc = oc/sum(oc);% Occupancy\n",
    "# lambda_ = nansum(lambdai.*oc);% Mean value\n",
    "# I = nansum(lambdai.*oc.*(log(lambdai)-log(lambda_)))/log(2);% Information\n",
    "\n",
    "lambda_i = epochs['dFoF_mean'] * 32.791\n",
    "lambda_i.shape\n",
    "lambda_ = lambda_i * np.expand_dims(e_c,axis = (0,2)) / e_c.sum()\n",
    "\n",
    "print(lambda_.shape, lambda_i.shape)\n",
    "\n",
    "SMGM = (lambda_ * ( np.log2(lambda_i) - np.expand_dims(np.log2(lambda_.sum(axis=1)), axis=1))).sum(axis=1)\n",
    "\n",
    "plt.plot(np.arange(-9,35,1),SMGM.T)\n",
    "plt.ylim((0,25))\n",
    "plt.show()\n"
   ]
  },
  {
   "cell_type": "code",
   "execution_count": null,
   "metadata": {},
   "outputs": [],
   "source": [
    "plt.scatter(I.flatten(),SMGM.flatten(),c=np.repeat(np.arange(0,dFoF.shape[2])[:,np.newaxis],dFoF.shape[0], axis=1).flatten(),cmap='tab20c')"
   ]
  },
  {
   "cell_type": "code",
   "execution_count": null,
   "metadata": {},
   "outputs": [],
   "source": [
    "ncomp = 3\n",
    "S = np.empty((dFoF.shape[0], ncomp, dFoF.shape[2]))\n",
    "print(S.shape)\n",
    "for i in range(dFoF.shape[2]):\n",
    "    ica = FastICA(n_components=ncomp, whiten='arbitrary-variance',max_iter=1000)\n",
    "    S[:,:,i] = ica.fit_transform(dFoF[:,:,i])"
   ]
  },
  {
   "cell_type": "code",
   "execution_count": null,
   "metadata": {},
   "outputs": [],
   "source": [
    "nbins = 20\n",
    "Ps = np.empty((S.shape[1], dFoF.shape[2],nbins))\n",
    "BEs = np.empty((S.shape[1], dFoF.shape[2],nbins+1))\n",
    "for c in range(dFoF.shape[2]):\n",
    "    for i in range(S.shape[1]):\n",
    "        Ps[i,c,:], BEs[i,c,:] = np.histogram(np.dot(S[:,i,c], dFoF[:,:,c]), bins=nbins)\n",
    "Ps /= np.expand_dims(Ps.sum(axis=(2,)),axis=(2,))\n",
    "\n",
    "Psx = np.array([[np.histogram2d(np.dot(S[:,i,c],dFoF[:,:,c]), e_i, bins=(BEs[i,c], np.arange(-.5,len(e_c)+.5,1)))[0] for c in range(dFoF.shape[2])] for i in range(S.shape[1])]).astype(np.float64)\n",
    "Psx /= np.expand_dims(Psx.sum(axis=(2,3)),axis=(2,3))\n",
    "\n",
    "Is = np.array([Psx[:,:,:,j] * np.log2(Psx[:,:,:,j] / (Ps * e_c[j]/len(e_i))) for j in range(len(e_c))])\n",
    "Is[np.isnan(Is)] = 0\n",
    "Is = Is.sum(axis=(0,3))\n",
    "\n",
    "print(Is.T.sum(axis=1).max(), Is.T.sum(axis=1).argmax())\n",
    "\n",
    "plt.hist(np.concatenate((Is.T, Is.T.sum(axis=1)[:,np.newaxis]), axis=1))\n",
    "plt.xlabel('Information (bits)')\n",
    "plt.ylabel('Number of cells')\n",
    "plt.legend(['IC1','IC2','IC3', 'IC1 + IC2 + IC3'])\n",
    "plt.show()\n",
    "\n"
   ]
  },
  {
   "cell_type": "code",
   "execution_count": null,
   "metadata": {},
   "outputs": [],
   "source": [
    "fig,ax = plt.subplots(1,3, figsize=(17,5))\n",
    "for i,ax_i in enumerate(ax):\n",
    "    im = ax_i.imshow(Psx[i,108,:,:], origin='lower')\n",
    "    ax_i.set_xlabel('Stimulus ID')\n",
    "    ax_i.set_ylabel(f'IC{i+1} amplitude')\n",
    "    fig.colorbar(im, ax=ax_i)"
   ]
  },
  {
   "cell_type": "code",
   "execution_count": null,
   "metadata": {},
   "outputs": [],
   "source": [
    "# How independent are the components actually?\n",
    "# For independent vars, the marginal should be a good approximation regardless of the value of the other var\n",
    "fig,ax = plt.subplots(3,3, figsize=(17,17))\n",
    "for i, ax_i in enumerate(ax):\n",
    "    for j,ax_j in enumerate(ax_i):\n",
    "        if i==j:\n",
    "            ax_j.hist(np.dot(S[:,i,108], dFoF[:,:,108]))\n",
    "        else:\n",
    "            ax_j.scatter(np.dot(S[:,i,108], dFoF[:,:,108]), np.dot(S[:,j,108], dFoF[:,:,108]), alpha=.2)\n"
   ]
  },
  {
   "cell_type": "code",
   "execution_count": null,
   "metadata": {},
   "outputs": [],
   "source": [
    "cs = [108, 114, 27, 156]\n",
    "\n",
    "_,axs = plt.subplots(2,2,figsize=(30,15))\n",
    "axs = [*axs[0],*axs[1]]\n",
    "for j in range(len(cs)):\n",
    "    print(epochs['dFoF_mean'][cs[j]].shape, np.linspace(-.25,1,44).shape)\n",
    "    for i in range(len(e_c)):\n",
    "        axs[j].errorbar(np.linspace(-.25,1,44), epochs['dFoF_mean'][cs[j]][i,:], epochs['dFoF_std'][cs[j]][i,:]/np.sqrt(e_c[i]))\n",
    "    axs[j].set_ylabel('ΔF/F')\n",
    "    axs[j].set_ylim(-.5,5)\n",
    "    axs[j].set_xlabel('Time (s)')\n"
   ]
  },
  {
   "cell_type": "code",
   "execution_count": null,
   "metadata": {},
   "outputs": [],
   "source": [
    "def count_possible_responses(N, P):\n",
    "    P_flat = P.flatten()\n",
    "    nb = len(P_flat)\n",
    "    eps = np.finfo(np.double).eps\n",
    "    R_s = (P_flat > eps).sum() #the naive (Miller-Madow) estimate\n",
    "    if R_s < nb:\n",
    "        R_s_x = R_s - ((P_flat > eps) * (P_flat < 1) * np.exp(np.log(1 - P_flat + eps) * N)).sum()\n",
    "        dN_prev = nb\n",
    "        dN = np.abs((R_s - R_s_x))\n",
    "        xtr = 0\n",
    "        while dN < dN_prev and (R_s + xtr)<nb:\n",
    "            xtr += 1\n",
    "            gamma = xtr * (1 - (N/(N + R_s))**(1 / N))\n",
    "            qc_x = (1-gamma) * (P_flat*N+1) / (N + R_s_x)\n",
    "            R_s_x = ((P_flat>eps) * (1-np.exp(np.log(1 - qc_x) * N))).sum()\n",
    "            qc_x = gamma / xtr\n",
    "            R_s_x += xtr * (1 - np.exp(np.log(1 - qc_x) * N))\n",
    "            dN_prev = dN\n",
    "            dN = np.abs((R_s - R_s_x))\n",
    "        # print('xtr: ', xtr)\n",
    "        R_s += xtr - 1\n",
    "        if dN < dN_prev:\n",
    "            R_s += 1\n",
    "\n",
    "    return R_s"
   ]
  },
  {
   "cell_type": "code",
   "execution_count": null,
   "metadata": {},
   "outputs": [],
   "source": [
    "print(dFoF.shape, e_c.sum(), Ps.shape, Psx.shape, Is.shape)\n",
    "print(count_possible_responses(dFoF.shape[1], Ps[0,108]))\n",
    "print([count_possible_responses(e_c[i], Psx[0,108,:,i]) for i in range(17)])\n",
    "print([4 *  count_possible_responses(e_c[i], Psx[0,108,:,i]) for i in range(17)])\n",
    "\n",
    "print(1/(2 * dFoF.shape[1] * np.log(2)) * (sum(np.array([count_possible_responses(e_c[i], Psx[0,108,:,i]) -1 for i in range(17)])) - count_possible_responses(dFoF.shape[1], Ps[0,108]) + 1))\n",
    "print(1/(2 * 17*20 * np.log(2)) * (sum(np.array([count_possible_responses(20, Psx[0,108,:,i]) -1 for i in range(17)])) - count_possible_responses(17*20, Ps[0,108]) + 1))\n",
    "\n"
   ]
  },
  {
   "cell_type": "code",
   "execution_count": null,
   "metadata": {},
   "outputs": [],
   "source": [
    "print(dFoF.shape, e_c.sum(), Py.shape, Pyx.shape, I.shape)\n",
    "\n",
    "bias = np.array([1/(2 * dFoF.shape[1] * np.log(2)) * (sum(np.array([count_possible_responses(e_c[i], Pyx[108,t,:,i]) -1 for i in range(17)])) - count_possible_responses(dFoF.shape[1], Py[108,t]) + 1) for t in range(Py.shape[1])])\n",
    "print(bias.shape)\n",
    "\n",
    "\n",
    "plt.plot(np.linspace(-.25,1,44),I[108])\n",
    "plt.plot(np.linspace(-.25,1,44),I[108] - bias)\n",
    "plt.plot(np.linspace(-.25,1,44),bias)\n",
    "\n",
    "plt.hlines([0,np.log2(17)], xmin=-.25, xmax=1, colors='k')\n",
    "plt.vlines([0,.5], ymin=-1, ymax=2, colors='k')\n",
    "\n",
    "\n",
    "plt.ylim((-.1,1))\n",
    "plt.xlim((-.25, 1.0))\n",
    "plt.xlabel('Time (s)')\n",
    "plt.ylabel('Information (bits)')\n",
    "plt.show()"
   ]
  },
  {
   "cell_type": "code",
   "execution_count": null,
   "metadata": {},
   "outputs": [],
   "source": [
    "print(dFoF.shape, e_c.sum(), Py.shape, Pyx.shape, I.shape)\n",
    "\n",
    "bias = np.array([[1/(2 * dFoF.shape[1] * np.log(2)) * (sum(np.array([count_possible_responses(e_c[i], Pyx[c,t,:,i]) -1 for i in range(17)])) - count_possible_responses(dFoF.shape[1], Py[c,t]) + 1) for t in range(Py.shape[1])] for c in range(Py.shape[0])])\n",
    "print(bias.shape)\n",
    "\n",
    "\n",
    "plt.plot(np.linspace(-.25,1,44),(I - bias).T)\n",
    "\n",
    "plt.hlines([0,np.log2(17)], xmin=-.25, xmax=1, colors='k')\n",
    "plt.vlines([0,.5], ymin=-1, ymax=2, colors='k')\n",
    "\n",
    "\n",
    "plt.ylim((-.1,1))\n",
    "plt.xlim((-.25, 1.0))\n",
    "plt.xlabel('Time (s)')\n",
    "plt.ylabel('Information (bits)')\n",
    "plt.show()"
   ]
  },
  {
   "cell_type": "code",
   "execution_count": null,
   "metadata": {},
   "outputs": [],
   "source": [
    "# print(dFoF.shape, e_c.sum(), S.shape, Ps.shape, Psx.shape, Is.shape)\n",
    "\n",
    "bias = np.array([[1/(2 * dFoF.shape[1] * np.log(2)) * (sum(np.array([count_possible_responses(e_c[i], Psx[j,c,:,i]) -1 for i in range(17)])) - count_possible_responses(dFoF.shape[1], Ps[j,c]) + 1) for j in range(S.shape[1])] for c in range(Ps.shape[1])])\n",
    "# print(bias.shape)\n",
    "\n",
    "plt.hist(Is.T-bias, 15)\n",
    "# plt.hist(np.concatenate((Is.T-bias, (Is.T-bias).sum(axis=1)[:,np.newaxis]), axis=1), 15)\n",
    "plt.xlabel('Information (bits)')\n",
    "plt.ylabel('Number of cells')\n",
    "plt.legend(['IC1','IC2','IC3','IC1 + IC2 + IC3'])\n",
    "plt.show()\n",
    "\n",
    "print((Is.T-bias).max(axis=0), (Is.T-bias).argmax(axis=0))"
   ]
  },
  {
   "cell_type": "code",
   "execution_count": null,
   "metadata": {},
   "outputs": [],
   "source": [
    "#let's take our informative cell and consider all the timepoints as an array...\n",
    "#calculate H_ind\n",
    "print(Pyx[108].shape, Py[108].shape, e_c.shape)\n",
    "print(Pyx[108].sum(axis=(1,2)))\n",
    "print((Pyx[108] / Pyx[108].sum(axis=1)[:,np.newaxis,:]).sum(axis=1).shape)\n",
    "\n",
    "Py_x = Pyx[108] / Pyx[108].sum(axis=1)[:,np.newaxis,:] #P(X=x|Y=y) for t,y,x\n",
    "print(Py_x.shape) \n",
    "\n",
    "Hindy_x = np.nansum(e_c/e_c.sum() * Py_x.prod(axis=0) * np.log2(Py_x.prod(axis=0)))\n",
    "#P_ind(X1=x1, X2=x2, ...) =  P(X1=x1) * P(X2=x2) * ...\n",
    "\n",
    "print(Hindy_x)\n",
    "# H_ind = e_c[i]/e_c.sum() * "
   ]
  },
  {
   "cell_type": "code",
   "execution_count": null,
   "metadata": {},
   "outputs": [],
   "source": [
    "# nbins = 12\n",
    "# Py = np.empty((dFoF.shape[2], dFoF.shape[0],nbins))\n",
    "# BEy = np.empty((dFoF.shape[2], dFoF.shape[0],nbins+1))\n",
    "# for c in range(dFoF.shape[2]):\n",
    "#     for t in range(dFoF.shape[0]):\n",
    "#         Py[c,t,:], BEy[c,t,:] = np.histogram(dFoF[t,:,c], bins=nbins)\n",
    "# Py /= np.expand_dims(Py.sum(axis=(2,)),axis=(2,))\n",
    "\n",
    "# Pyx = np.array([[np.histogram2d(dFoF[t,:,c], e_i, bins=(BEy[c,t,:], np.arange(-.5,len(e_c)+.5,1)))[0] for t in range(dFoF.shape[0])] for c in range(dFoF.shape[2])]).astype(np.float64)\n",
    "# Pyx /= np.expand_dims(Pyx.sum(axis=(2,3)),axis=(2,3))\n",
    "print(dFoF.shape)\n",
    "print(e_c.sum())\n",
    "\n",
    "def calc_noise_entropy(X, Y, bins):\n",
    "    # X size (Nx,)     : stimulus index, range 0:s\n",
    "    # Y size (L, Nx)  : response, where L is the array size\n",
    "\n",
    "    # Goal: shuffle Y within stimulus condition\n",
    "    # calculate Hshy_x via P(Y1=y1, Y2=y2, ... | X=x)\n",
    "    # iterate, shuffling each time and adding the counts to Py_x\n",
    "    # stop when Hshy_x converges\n",
    "\n",
    "\n",
    "    # Approach : need a sparse representation\n",
    "    #   we can hash the coordinates, store the value as a tuple of the coords and the count to avoid collisions\n",
    "    #   or just use a more standard sparse array... should be about the same?\n",
    "\n",
    "    pass"
   ]
  },
  {
   "cell_type": "code",
   "execution_count": null,
   "metadata": {},
   "outputs": [],
   "source": [
    "import scipy.cluster.hierarchy as hc\n",
    "from scipy.spatial.distance import squareform\n",
    "\n",
    "dFoF_mean = np.stack([dFoF[:,e_i==i, :].mean(axis=1) for i in range(17)], axis=1)\n",
    "eta = dFoF - dFoF_mean[:,e_i,:]\n",
    "\n",
    "eta.shape\n",
    "# plt.plot(eta[:,:,108].T)\n",
    "# plt.plot(dFoF[:,:,108])\n",
    "# e_i.max()\n",
    "\n",
    "#rows are vars, cols are obs\n",
    "# noise_corr = np.array([np.corrcoef(eta[i,:,:].T) for i in range(len(eta))])\n",
    "\n",
    "# nc_full = np.corrcoef(eta.reshape((-1, 162)).T)\n",
    "# Z = hc.linkage(squareform(1-np.abs(nc_full), checks=False), 'average',optimal_ordering=True)\n",
    "# l = hc.fcluster(Z, .03, criterion='distance')\n",
    "# l_o = np.argsort(l)\n",
    "\n",
    "nc_full = np.corrcoef(dFoF.reshape((-1, 162)).T)\n",
    "Z = hc.linkage(squareform(1-np.abs(nc_full), checks=False), 'average',optimal_ordering=True)\n",
    "l = hc.fcluster(Z, .03, criterion='distance')\n",
    "l_o = np.argsort(l)\n",
    "\n",
    "\n",
    "\n",
    "\n",
    "eta_o = eta[:,:,l_o]\n",
    "noise_corr = np.array([np.corrcoef(eta_o[i,:,:].T) for i in range(len(eta_o))])\n",
    "nc_full_o = np.corrcoef(eta_o.reshape((-1, 162)).T)\n",
    "# hc.fclusterdata(nc_full)\n",
    "\n",
    "plt.figure(figsize=(12,12))\n",
    "# hc.dendrogram(Z, orientation='top', leaf_rotation=90)\n",
    "\n",
    "# fig,axs = plt.subplots(9,5, figsize=(20,40))\n",
    "# axs = axs.flatten()\n",
    "# for i in range(44):\n",
    "#     im = axs[i].imshow(np.abs(noise_corr[i]))\n",
    "#     im.set_clim(0,.1)\n",
    "#     axs[i].set_aspect('auto')\n",
    "\n",
    "# # axs[-1].axis('off')\n",
    "# im = axs[-1].imshow(np.abs(nc_full_o))\n",
    "# im.set_clim(0,.1)\n",
    "# axs[-1].set_aspect('auto')\n",
    "# plt.show()\n",
    "\n",
    "im = plt.imshow(np.abs(nc_full_o), interpolation='nearest')\n",
    "im.set_clim(0,.1)\n",
    "plt.gca().set_aspect('auto')\n",
    "plt.colorbar()\n",
    "plt.show()\n"
   ]
  },
  {
   "cell_type": "code",
   "execution_count": null,
   "metadata": {},
   "outputs": [],
   "source": [
    "\n",
    "eta_o = dFoF[:,:,l_o]\n",
    "noise_corr = np.array([np.corrcoef(eta_o[i,:,:].T) for i in range(len(eta_o))])\n",
    "nc_full_o = np.corrcoef(eta_o.reshape((-1, 162)).T)\n",
    "\n",
    "plt.figure(figsize=(12,10))\n",
    "\n",
    "im = plt.imshow(np.abs(nc_full_o), interpolation='nearest')\n",
    "im.set_clim(0,.1)\n",
    "plt.colorbar()\n",
    "plt.show()"
   ]
  },
  {
   "cell_type": "code",
   "execution_count": null,
   "metadata": {},
   "outputs": [],
   "source": [
    "gdat = suite2p.io.BinaryRWFile(32, 128, bing).data[frame_i]\n",
    "dFoF_full = (gdat - gdat[:10].mean(axis=0)) / gdat[:10].mean(axis=0)\n",
    "# dFoF_full[np.isinf(dFoF_full)] = np.nan\n",
    "np.nan_to_num(dFoF_full, copy=False, nan=np.nan, posinf=np.nan, neginf=np.nan)\n",
    "print()"
   ]
  },
  {
   "cell_type": "code",
   "execution_count": null,
   "metadata": {},
   "outputs": [],
   "source": [
    "plt.imshow(gdat.mean(axis=(0,1)), extent=105.3*np.array([-1,1,-1,1]))"
   ]
  },
  {
   "cell_type": "code",
   "execution_count": null,
   "metadata": {},
   "outputs": [],
   "source": [
    "%%capture\n",
    "#animation of average response to each stim?\n",
    "print(dFoF_full.shape, dFoF_full.dtype, e_i.shape, e_c.shape,ue.shape)\n",
    "print(-ue[:,12])\n",
    "\n",
    "\n",
    "g_i = np.array([[resize(np.nanmean(gdat[t,e_i==j,:,:], axis=0),(256,256)) for j in range(len(e_c))] for t in range(len(dFoF_full))])\n",
    "print(g_i.shape)\n",
    "\n",
    "gmax = g_i.max(axis=(0,2,3))\n",
    "\n",
    "fig = plt.figure()\n",
    "ax = plt.gca()\n",
    "# cr = resize(cr,(32,128), anti_aliasing=True, anti_aliasing_sigma=3)\n",
    "\n",
    "# z = np.zeros((32,128))\n",
    "z = np.zeros((256,256))\n",
    "\n",
    "im = ax.imshow(np.stack((z, g_i[0,0] / gmax[0], z), axis=2), extent=105.3*np.array([-1,1,-1,1]))\n",
    "\n",
    "# c = plt.Circle(-ue[:,j], radius=15, color=[1,0,1], alpha=.5)\n",
    "mm = m.astype(np.int16)\n",
    "bound = ax.imshow(find_boundaries(mm, mode='outer'), cmap='gray', alpha=find_boundaries(mm, mode='outer').astype(np.float32),extent=105.3*np.array([-1,1,-1,1]), interpolation='nearest')\n",
    "\n",
    "def anim(ii):\n",
    "    i = ii  % dFoF_full.shape[0]\n",
    "    j = ii // dFoF_full.shape[0]\n",
    "    if (i / 32.79) > .25 and (i / 32.79)<.75:\n",
    "        el = draw.ellipse(ue[1,j]/210.6*256 + 128, -ue[0,j]/210.6*256 + 128, 15/210.6*256, 15/210.6*256, shape=(256,256))\n",
    "        cr = np.zeros((256,256))\n",
    "        cr[el] = .2\n",
    "        im.set_data(np.stack((cr, g_i[i,j] / gmax[j],cr), axis=2))\n",
    "    else:\n",
    "        im.set_data(np.stack((z, g_i[i,j] / gmax[j], z), axis=2))\n",
    "    return [im,bound]\n",
    "\n",
    "animation.FuncAnimation(fig, anim, frames=dFoF_full.shape[0]*len(e_c), interval=20, blit=True).save('mean_response_w_outline.gif', fps=32.97)\n"
   ]
  },
  {
   "cell_type": "code",
   "execution_count": null,
   "metadata": {},
   "outputs": [],
   "source": [
    "print(dFoF_full.shape)\n",
    "print(m.shape)\n",
    "print(find_boundaries(m.astype(np.int16), mode='outer').max())\n",
    "plt.imshow(np.zeros((256,256)), cmap='gray')\n",
    "\n",
    "# mm = np.flip(m,axis=1).astype(np.int16)\n",
    "mm = m.astype(np.int16)\n",
    "plt.imshow(find_boundaries(mm, mode='outer'), cmap='gray', alpha=find_boundaries(mm, mode='outer').astype(np.float32), interpolation='nearest')\n"
   ]
  },
  {
   "cell_type": "code",
   "execution_count": null,
   "metadata": {},
   "outputs": [],
   "source": [
    "def autocorrelation(movie, sigma): #size t,y,x\n",
    "    c = movie - np.nanmean(movie, axis=0)\n",
    "    nani = np.isnan(c)\n",
    "    V = c.copy()\n",
    "    V[nani] = 0\n",
    "\n",
    "    W = np.ones(V.shape)\n",
    "    W[nani] = 0\n",
    "\n",
    "    sumsquare = np.empty(V.shape)\n",
    "    for i in range(len(movie)):\n",
    "        sumsquare[i] = (gaussfilt(V[i], sigma, mode='constant') / gaussfilt(W[i], sigma, mode='constant'))**2\n",
    "    sumsquare = sumsquare.sum(axis=0)\n",
    "\n",
    "    squaresum = gaussfilt(np.nanmean(c**2, axis=0) * len(movie), sigma, mode='constant')\n",
    "\n",
    "    return sumsquare / squaresum\n",
    "\n",
    "ac = autocorrelation(dFoF_full.reshape((-1,32,128)), (.5,2))\n",
    "print(ac.shape)\n",
    "# plt.imshow(np.nanstd(dFoF_full,axis=(0,1)), cmap='gray', extent=105.3*np.array([-1,1,-1,1]))\n",
    "plt.imshow(ac, cmap='gray', extent=105.3*np.array([-1,1,-1,1]))\n",
    "plt.colorbar()\n",
    "# plt.clim(.01,.028)\n"
   ]
  },
  {
   "cell_type": "code",
   "execution_count": null,
   "metadata": {},
   "outputs": [],
   "source": [
    "#find the bias-corrected MI between the joint distribution of each pair of cells and the stimulus\n",
    "#for now let's just do each time point indepedently?\n",
    "\n",
    "# I(X,Y;Z) = H(Z) + H(X,Y) - H(X,Y,Z)\n",
    "\n",
    "# I(X,Y;Z) = sum( p(x,y,z) * log(p(x,y,z) / [p(x,y) * p(z)]) ) ## KL divergence of p(x,y) * p(z) vs. p(x,y,z)\n",
    "\n",
    "# I(X,Y;Z) = sum( p(z) * p(x,y|z) * log(p(x,y|z) / p(x,y))) ## since p(x,y,z) = p(z) * p(x,y|z)\n",
    "\n",
    "\n",
    "nbins = 12 #per dimension\n",
    "pairs = [(i,j) for i in range(dFoF.shape[2]) for j in range(i+1)]\n",
    "\n",
    "Py = np.empty((dFoF.shape[0], nbins, nbins))\n",
    "Py_x = np.empty((dFoF.shape[0], nbins, nbins, len(e_c)))\n",
    "BEy = np.empty((dFoF.shape[0], 2, nbins+1))\n",
    "I2 = np.empty((len(pairs), dFoF.shape[0]))\n",
    "\n",
    "for ii,(i,j) in enumerate(pairs):\n",
    "    for t in range(dFoF.shape[0]):\n",
    "        # Py[t,:,0], BEy[t,:,0] = np.histogram(dFoF[t,:,i], bins=nbins)\n",
    "        # Py[t,:,1], BEy[t,:,1] = np.histogram(dFoF[t,:,j], bins=nbins)\n",
    "        # Py = np.array([[np.histogram2d(dFoF[t,:,c], e_i, bins=(BEy[c,t,:], np.arange(-.5,len(e_c)+.5,1)))[0] for t in range(dFoF.shape[0])] for c in range(dFoF.shape[2])]).astype(np.float64)\n",
    "        Py[t,:,:], BEy[t,0,:], BEy[t,1,:] = np.histogram2d(dFoF[t,:,i], dFoF[t,:,j], nbins)\n",
    "\n",
    "        for c in range(len(e_c)):\n",
    "            Py_x[t,:,:,c],_,_ = np.histogram2d(dFoF[t,e_i==c,i], dFoF[t,e_i==c,j], bins=BEy[t])\n",
    "    Py = Py / np.nansum(Py,axis=(1,2))[:,None,None]\n",
    "    Py_x = Py_x / np.nansum(Py_x,axis=(1,2))[:,None,None,:]\n",
    "    \n",
    "\n",
    "    _I = np.array([e_c[j]/len(e_i) * Py_x[:,:,:,j] * np.log2(Py_x[:,:,:,j] / Py) for j in range(len(e_c))])\n",
    "    _I[np.isnan(_I)] = 0\n",
    "    I2[ii] = _I.sum(axis=(0,2,3)) #shape: (17,42,12,12) -> (42,)\n",
    "\n",
    "\n",
    "# bias = np.array([[1/(2 * dFoF.shape[1] * np.log(2)) * (sum(np.array([count_possible_responses(e_c[i], Pyx[c,t,:,i]) -1 for i in range(17)])) - count_possible_responses(dFoF.shape[1], Py[c,t]) + 1) for t in range(Py.shape[1])] for c in range(Py.shape[0])])\n",
    "# print(bias.shape)\n"
   ]
  },
  {
   "cell_type": "code",
   "execution_count": null,
   "metadata": {},
   "outputs": [],
   "source": [
    "print(Py.shape)\n",
    "# Py[0,:,:], BEy[0,0,:], BEy[0,1,:] = np.histogram2d(dFoF[0,:,i], dFoF[0,:,j], nbins)\n",
    "# Py = Py / np.nansum(Py,axis=(1,2))[:, None, None]\n",
    "plt.imshow(Py[0])\n",
    "plt.colorbar()\n",
    "print(np.nansum(Py[0]))"
   ]
  },
  {
   "cell_type": "code",
   "execution_count": null,
   "metadata": {},
   "outputs": [],
   "source": [
    "maxi = np.unravel_index(I2.argmax(),I2.shape)[0] \n",
    "print(maxi, pairs[maxi])\n",
    "# I.sum(axis=1).argmax()\n",
    "\n",
    "plt.figure()\n",
    "plt.plot(np.array([dFoF[:,e_i==c,pairs[maxi][0]].mean(axis=1) for c in range(len(e_c))]).T)\n",
    "plt.figure()\n",
    "plt.plot(np.array([dFoF[:,e_i==c,pairs[maxi][1]].mean(axis=1) for c in range(len(e_c))]).T)\n",
    "\n",
    "plt.figure()\n",
    "plt.plot(I2[maxi,:].T)\n",
    "# plt.plot(np.arange(44)/32.79-.25,I.mean(axis=0), color='k')\n",
    "# plt.fill_between(np.arange(44)/32.79-.25,I.mean(axis=0)-I.std(axis=0), I.mean(axis=0)+I.std(axis=0), color='gray', alpha=.2)\n",
    "\n",
    "# count_possible_responses(N, P):\n",
    "#     P_flat = P.flatten()\n",
    "\n",
    "print(Py.shape, Py_x.shape, I2.shape)\n",
    "# bias = np.array([1/(2 * dFoF.shape[1] * np.log(2)) * (sum(np.array([count_possible_responses(e_c[i], Pyx[108,t,:,i]) -1 for i in range(17)])) - count_possible_responses(dFoF.shape[1], Py[108,t]) + 1) for t in range(Py.shape[1])])"
   ]
  },
  {
   "cell_type": "code",
   "execution_count": null,
   "metadata": {},
   "outputs": [],
   "source": [
    "# pairs[maxi]\n",
    "plt.imshow(np.logical_or(m == pairs[maxi][0]-1,m == pairs[maxi][1]-1))\n",
    "print(m.max())"
   ]
  },
  {
   "cell_type": "code",
   "execution_count": null,
   "metadata": {},
   "outputs": [],
   "source": [
    "print(I.shape, I2.shape, dFoF.shape)\n",
    "I2F = np.empty((dFoF.shape[0], dFoF.shape[2], dFoF.shape[2]))\n",
    "for ii,(i,j) in enumerate(pairs):\n",
    "    I2F[:,i,j] = I2[ii]\n",
    "    I2F[:,j,i] = I2[ii]\n",
    "for i in range(dFoF.shape[2]):\n",
    "    I2F[:,i,i] = I[i]\n",
    "    \n",
    "\n",
    "\n",
    "# [(i,j) for i in range(dFoF.shape[2]) for j in range(i)]\n",
    "# I2F = np.array([squareform(I2[:,t]) + np.diag(I[:,t]) for t in range(len(dFoF))])\n",
    "# print(I2F.shape)\n",
    "\n",
    "fig, ax = plt.subplots(1,2, figsize=(30,25))\n",
    "im0=ax[0].imshow(I2F[15], interpolation='nearest', vmin=0,vmax=1.5)\n",
    "im1=ax[1].imshow(I2F[32], interpolation='nearest', vmin=0,vmax=1.5)\n",
    "cax = fig.add_axes([.49,.3,.02,.4])\n",
    "fig.colorbar(im0, cax=cax)\n",
    "\n",
    "I2F2 = np.empty((dFoF.shape[0], dFoF.shape[2], dFoF.shape[2]))\n",
    "for ii,(i,j) in enumerate(pairs):\n",
    "    I2F2[:,i,j] = I2[ii]\n",
    "    I2F2[:,j,i] = I2[ii]\n",
    "for i in range(dFoF.shape[2]):\n",
    "    I2F2[:,i,i] = I[i]*2\n",
    "    \n",
    "\n",
    "fig, ax = plt.subplots(1,2, figsize=(30,25))\n",
    "im0=ax[0].imshow(I2F2[15] - (I[:,15,None] + I[:,None,15].T), interpolation='nearest', vmin=-0.75,vmax=+0.75, cmap='seismic')\n",
    "im1=ax[1].imshow(I2F2[32] - (I[:,32,None] + I[:,None,32].T), interpolation='nearest', vmin=-0.75,vmax=+0.75, cmap='seismic')\n",
    "cax = fig.add_axes([.49,.3,.02,.4])\n",
    "fig.colorbar(im0, cax=cax)\n"
   ]
  },
  {
   "cell_type": "code",
   "execution_count": null,
   "metadata": {},
   "outputs": [],
   "source": [
    "print(I2.shape)\n",
    "maxit = I2.argmax(axis=0)\n",
    "print(maxit)\n",
    "\n",
    "plt.plot([I2[maxit[t],t] for t in range(44)])\n"
   ]
  },
  {
   "cell_type": "code",
   "execution_count": null,
   "metadata": {},
   "outputs": [],
   "source": [
    "def MI_2d(resp, stim_i, nbins=12, stim_counts = None, stim_prob = None, shuffle=True):\n",
    "    '''\n",
    "    stim_i is shape (T,); trial type\n",
    "    resp is shape (T,2)\n",
    "    '''\n",
    "    if stim_counts is None:\n",
    "        _, stim_counts = np.unique(stim_i, return_counts=True)\n",
    "    \n",
    "    if stim_prob is None:\n",
    "        stim_prob = (stim_counts / len(stim_i))[:,None,None]\n",
    "\n",
    "    # I_sh = H(R) - H_ind(R|S) + H_sh(R|S) - H(R|S)\n",
    "    Py, *edges = np.histogram2d(resp[:,0], resp[:,1], nbins)\n",
    "    Py = Py / Py.sum()\n",
    "\n",
    "    Py_x = np.empty((len(stim_counts), nbins, nbins))\n",
    "    if shuffle:\n",
    "        Py_x_sh = np.empty((len(stim_counts), nbins, nbins))\n",
    "    for c in range(len(stim_counts)):\n",
    "        stim_c = stim_i==c\n",
    "        Py_x[c,:,:],*_ = np.histogram2d(resp[stim_c,0],resp[stim_c,1], bins=edges)\n",
    "        \n",
    "        if shuffle:\n",
    "            # print(resp[stim_c,0].size, resp[stim_c][0].size)\n",
    "            resp_sh = (np.random.permutation(resp[stim_c,0]), np.random.permutation(resp[stim_c,1]))\n",
    "            # print(resp[stim_c][0], resp_sh[0])\n",
    "\n",
    "            Py_x_sh[c,:,:],*_= np.histogram2d(*resp_sh, bins=edges)\n",
    "\n",
    "    Py_x = Py_x / Py_x.sum(axis=(1,2), keepdims=True)\n",
    "    if shuffle:\n",
    "        Py_x_sh = Py_x_sh / Py_x_sh.sum(axis=(1,2), keepdims=True)\n",
    "        Py_x_ind = Py_x.sum(axis=1, keepdims=True) * Py_x.sum(axis=2, keepdims=True)  \n",
    "    # print(Py_x_ind.shape)  \n",
    "    \n",
    "    # print(Py.sum(), Py_x.sum(axis=(1,2)), Py_x_ind.sum(axis=(1,2)), Py_x_sh.sum(axis=(1,2)), stim_prob.sum())\n",
    "\n",
    "    HR = -np.nansum(Py * np.log2(Py))\n",
    "    HRS = -np.nansum(Py_x * np.log2(Py_x) * stim_prob)\n",
    "\n",
    "    if shuffle:\n",
    "        HRS_ind = -np.nansum(Py_x_ind * np.log2(Py_x_ind) * stim_prob)\n",
    "        HRS_sh = -np.nansum(Py_x_sh * np.log2(Py_x_sh) * stim_prob)\n",
    "        \n",
    "        return HR - HRS_ind + HRS_sh - HRS\n",
    "    else:\n",
    "        return HR - HRS"
   ]
  },
  {
   "cell_type": "code",
   "execution_count": null,
   "metadata": {},
   "outputs": [],
   "source": [
    "# print(dFoF[30,:,108:110].shape)\n",
    "print(dFoF[t,:,np.array([108, 57])].shape)\n",
    "# plt.plot([MI_2d(e_i, dFoF[t,:,np.array([108, 1])].T) for t in range(1)])\n",
    "plt.plot([MI_2d(dFoF[t,:,np.array([108, 1])].T, e_i) for t in range(44)])\n",
    "\n",
    "# for i in range(50,dFoF.shape[1], 20):\n",
    "#     # ri = np.random.randint(0,dFoF.shape[1], dFoF.shape[1]//i)\n",
    "#     ri = np.random.randint(0,dFoF.shape[1], i)\n",
    "#     plt.plot([MI_2d(e_i[ri], (dFoF[t,ri][:,np.array([108, 1])])) for t in range(44)])\n",
    "\n",
    "\n",
    "\n",
    "\n"
   ]
  },
  {
   "cell_type": "code",
   "execution_count": null,
   "metadata": {},
   "outputs": [],
   "source": [
    "def QE(resp, stim_i, nreps=20, nsamps=3, shuffle=True):\n",
    "    x = np.tile(1/(resp.shape[0]//np.arange(1,nsamps+2)), (nreps,1)).flatten()\n",
    "    qe = np.empty((nsamps+1,nreps))\n",
    "\n",
    "    qe[0,:] = np.tile(MI_2d(resp, stim_i, shuffle=shuffle),(1,nreps))\n",
    "    for i in range(nsamps):\n",
    "        for j in range(nreps):\n",
    "            # ri = np.random.randint(0,dFoF.shape[1], dFoF.shape[1]//(i+1))\n",
    "            ri = np.random.permutation(dFoF.shape[1])[:dFoF.shape[1]//(i+2)]\n",
    "            qe[i+1,j] = MI_2d(resp[ri], stim_i[ri], shuffle=shuffle)\n",
    "\n",
    "    _,_,Itrue= np.polyfit(x, qe.T.flatten(), 2)    \n",
    "    return Itrue\n",
    "\n",
    "# fig,ax = plt.subplots(1,3, figsize=(30,5))\n",
    "# ax[0].plot(Itrue)\n",
    "# ax[1].plot(a)\n",
    "# ax[2].plot(b)\n"
   ]
  },
  {
   "cell_type": "code",
   "execution_count": null,
   "metadata": {},
   "outputs": [],
   "source": [
    "for i in range(162):\n",
    "    plt.plot([QE(dFoF[t,:,np.array([108, i])].T, e_i) for t in range(44)])\n",
    "\n",
    "# dFoF[t,:,np.array([108, 1])].T"
   ]
  },
  {
   "cell_type": "code",
   "execution_count": null,
   "metadata": {},
   "outputs": [],
   "source": [
    "for i in range(162):\n",
    "    plt.plot([QE(dFoF[t,:,np.array([i, i])].T, e_i) for t in range(44)])\n",
    "\n",
    "# dFoF[t,:,np.array([108, 1])].T"
   ]
  },
  {
   "cell_type": "code",
   "execution_count": null,
   "metadata": {},
   "outputs": [],
   "source": [
    "cs = [108, 114, 27, 156]\n",
    "fig,ax = plt.subplots(2,2, figsize=(30,15))\n",
    "ax = ax.flatten()\n",
    "\n",
    "for i,c in enumerate(cs):\n",
    "    ax[i].plot(np.linspace(-.25,1,43),[QE(dFoF[np.array([t, t]),:,c].T, e_i, shuffle=False) for t in range(1,44)])\n",
    "    ax[i].plot(np.linspace(-.25,1,43),[QE(dFoF[np.array([t-1, t]),:,c].T, e_i) for t in range(1,44)])\n",
    "\n",
    "    ax[i].set_ylabel('Information (bits)')\n",
    "    ax[i].set_xlabel('Time (s)')\n",
    "\n"
   ]
  },
  {
   "cell_type": "code",
   "execution_count": null,
   "metadata": {},
   "outputs": [],
   "source": [
    "import util.info\n",
    "import importlib\n",
    "importlib.reload(util.info)\n",
    "# MI(e_i, 4, 12)(dFoF[])\n",
    "\n",
    "model = util.info.MI(e_i, 3, 12)\n",
    "\n",
    "t = 30\n",
    "# dd = np.moveaxis(dFoF[t][:,:,np.array([27,114,156])],0,2).reshape((-1,3))\n",
    "# plt.imshow(dd, aspect=1/400, interpolation='nearest')\n",
    "print(dFoF[t,:,np.array([27,114,156])].shape)\n",
    "# \n",
    "# plt.plot([model(np.moveaxis(dFoF[np.array([t-1,t])][:,:,np.array([27,114,156])],0,2).reshape((-1,6))) for t in range(1,44)])\n",
    "plt.plot([model(np.moveaxis(dFoF[t,:,np.array([27,114,156])],0,1)) for t in range(1,44)])\n",
    "\n",
    "\n",
    "# plt.plot([model.QE(np.moveaxis(dFoF[t,:,np.array([27,114,156])],0,1)) for t in range(1,44)])\n",
    "\n",
    "_,ax = plt.subplots(1,3,figsize=(30,5))\n",
    "Iq = np.empty(44)\n",
    "a = np.empty(44)\n",
    "b = np.empty(44)\n",
    "for t in range(1,44):\n",
    "    Iq[t],a[t],b[t] = model.QE(np.moveaxis(dFoF[t,:,np.array([27,114,156])],0,1), return_fit=True, samps=np.arange(600,1222,6), nreps=3)\n",
    "ax[0].plot(Iq)\n",
    "ax[1].plot(a)\n",
    "ax[2].plot(b)\n"
   ]
  },
  {
   "cell_type": "code",
   "execution_count": null,
   "metadata": {},
   "outputs": [],
   "source": [
    "\n",
    "_,ax = plt.subplots(1,2,figsize=(30,5))\n",
    "\n",
    "model = util.info.MI(e_i, 3, 12)\n",
    "ax[1].plot(np.linspace(-.25,1.0,44),[model.QE(np.moveaxis(dFoF[t,:,np.array([27,114,156])],0,1), samps=np.arange(600,1222,6), nreps=3) for t in range(44)], color='k')\n",
    "\n",
    "\n",
    "model = util.info.MI(e_i, 1, 12)\n",
    "ax[1].plot(np.linspace(-.25,1.0,44), [model.QE(dFoF[t,:,27,None], samps=np.arange(600,1222,6), nreps=3) for t in range(44)], color='red')\n",
    "ax[1].plot(np.linspace(-.25,1.0,44), [model.QE(dFoF[t,:,114, None], samps=np.arange(600,1222,6), nreps=3) for t in range(44)], color='green')\n",
    "ax[1].plot(np.linspace(-.25,1.0,44), [model.QE(dFoF[t,:,156, None], samps=np.arange(600,1222,6), nreps=3) for t in range(44)], color='blue')\n",
    "\n",
    "ax[1].set_ylabel('Information (bits)')\n",
    "ax[1].set_xlabel('Time (s)')\n",
    "\n",
    "\n",
    "mm = np.zeros((3,*m.shape))\n",
    "mm[0,m==27] = 1\n",
    "mm[1,m==114] = 1\n",
    "mm[2,m==156] = 1\n",
    "ax[0].imshow(np.moveaxis(mm,0,2))\n"
   ]
  },
  {
   "cell_type": "code",
   "execution_count": null,
   "metadata": {},
   "outputs": [],
   "source": [
    "# model = util.info.MI(e_i, 3, 12)\n",
    "# plt.plot([model(dFoF[t,:,27].reshape((-1,1))) for t in range(1,44)])\n",
    "\n",
    "# print(dFoF[np.array([t-2,t-1,t]),:,114].T.shape)\n",
    "d = []\n",
    "p = []\n",
    "l = []\n",
    "for i in range(2,6):\n",
    "    model = util.info.MI(e_i, i, 12)\n",
    "    ti = np.arange(i)\n",
    "    di = [model.QE(dFoF[t-ti,:,114].T, samps=np.arange(600,1222,6), nreps=3) for t in range(i-1,44)]\n",
    "    d.append(di)\n",
    "    p.append(plt.plot(di))\n",
    "    l.append(f'{i} time points')\n",
    "# plt.plot([model(dFoF[np.array([t-2,t-1,t]),:,114].T) for t in range(2,44)], color='green')\n",
    "plt.legend(p, l)\n"
   ]
  },
  {
   "cell_type": "code",
   "execution_count": null,
   "metadata": {},
   "outputs": [],
   "source": [
    "for i in range(4):\n",
    "    plt.plot(np.arange(i,43), d[i])\n",
    "plt.legend(l)\n",
    "plt.show()"
   ]
  },
  {
   "cell_type": "code",
   "execution_count": null,
   "metadata": {},
   "outputs": [],
   "source": [
    "i = 1\n",
    "model = util.info.MI(e_i, i, 12)\n",
    "ti = np.arange(i)\n",
    "di = [model.QE(dFoF[t-ti,:,114].T, samps=np.arange(600,1222,6), nreps=3) for t in range(i-1,44)]\n",
    "\n",
    "plt.plot(di)\n",
    "\n",
    "for i in range(4):\n",
    "    plt.plot(np.arange(i,43), d[i])\n",
    "\n",
    "plt.legend(('1 time point',*l))\n",
    "plt.show()\n",
    "\n"
   ]
  }
 ],
 "metadata": {
  "kernelspec": {
   "display_name": "Python 3.8.13 ('suite2p')",
   "language": "python",
   "name": "python3"
  },
  "language_info": {
   "codemirror_mode": {
    "name": "ipython",
    "version": 3
   },
   "file_extension": ".py",
   "mimetype": "text/x-python",
   "name": "python",
   "nbconvert_exporter": "python",
   "pygments_lexer": "ipython3",
   "version": "3.8.13"
  },
  "orig_nbformat": 4,
  "vscode": {
   "interpreter": {
    "hash": "549e27e5738a75b56c6f3bddb38ab05120dd5572e6f39f219b227b4e2f87fa08"
   }
  }
 },
 "nbformat": 4,
 "nbformat_minor": 2
}
